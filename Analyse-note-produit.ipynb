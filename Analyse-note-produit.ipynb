{
 "cells": [
  {
   "cell_type": "markdown",
   "id": "42ccb98e",
   "metadata": {},
   "source": [
    "# La note d'un produit est-elle dépendente de son prix ? - Python\n",
    "\n",
    "Pour répondre à cette question, nous avons récupérer des données sur les produits vendus sur la plateforme Amazon. \n",
    "Ces données comprennes notamment :\n",
    "+ L'identifiant du produit : **product_id**\n",
    "+ Le nom du produit : **product_name**\n",
    "+ La catégorie du produit : **category**\n",
    "+ Le prix réduit du produit : **discounted_price**\n",
    "+ Le prix actuel du produit : **actual_price**\n",
    "+ Le pourcentage de remise : **discount_percentage**\n",
    "+ La note du produit : **rating**\n",
    "+ Le nombre de notes du produit : **rating_count**\n",
    "+ La description du produit : **about_product**\n",
    "\n",
    "Dans un premier temps, nous allons procéder au nettoyage et à l'harmonisation des données.\n",
    "Dans un second temps, nous analyserons les distributions des différentes variables afin de déterminer quelles analyses pourront être faites.\n",
    "Enfin, nous présenterons les résultats des analyses permettant de répondre à la question posée."
   ]
  },
  {
   "cell_type": "markdown",
   "id": "94643b4b",
   "metadata": {},
   "source": [
    "## 1. Importation et nettoyage des données"
   ]
  },
  {
   "cell_type": "markdown",
   "id": "a278a983",
   "metadata": {},
   "source": [
    "### Importation des bibliothèques nécessaires"
   ]
  },
  {
   "cell_type": "markdown",
   "id": "eb0cfd84",
   "metadata": {},
   "source": [
    "Les bibliothèques nécessaires **pandas, numpy, seaborn et matplotlib** sont nécessaires au nettoyage des données et leur analyse."
   ]
  },
  {
   "cell_type": "code",
   "execution_count": 300,
   "id": "6bbd8da3",
   "metadata": {},
   "outputs": [],
   "source": [
    "import pandas as pd\n",
    "import os\n",
    "import numpy as np\n",
    "import seaborn as sns\n",
    "import matplotlib.pyplot as plt"
   ]
  },
  {
   "cell_type": "markdown",
   "id": "e806719a",
   "metadata": {},
   "source": [
    "### Importation des données"
   ]
  },
  {
   "cell_type": "code",
   "execution_count": 301,
   "id": "cd5430a3",
   "metadata": {},
   "outputs": [],
   "source": [
    "df_sales = pd.read_csv('amazon.csv')"
   ]
  },
  {
   "cell_type": "code",
   "execution_count": 302,
   "id": "2ba5f991",
   "metadata": {},
   "outputs": [
    {
     "data": {
      "application/vnd.microsoft.datawrangler.viewer.v0+json": {
       "columns": [
        {
         "name": "index",
         "rawType": "int64",
         "type": "integer"
        },
        {
         "name": "product_id",
         "rawType": "object",
         "type": "string"
        },
        {
         "name": "product_name",
         "rawType": "object",
         "type": "string"
        },
        {
         "name": "category",
         "rawType": "object",
         "type": "string"
        },
        {
         "name": "discounted_price",
         "rawType": "object",
         "type": "string"
        },
        {
         "name": "actual_price",
         "rawType": "object",
         "type": "string"
        },
        {
         "name": "discount_percentage",
         "rawType": "object",
         "type": "string"
        },
        {
         "name": "rating",
         "rawType": "object",
         "type": "string"
        },
        {
         "name": "rating_count",
         "rawType": "object",
         "type": "string"
        },
        {
         "name": "about_product",
         "rawType": "object",
         "type": "string"
        },
        {
         "name": "user_id",
         "rawType": "object",
         "type": "string"
        },
        {
         "name": "user_name",
         "rawType": "object",
         "type": "string"
        },
        {
         "name": "review_id",
         "rawType": "object",
         "type": "string"
        },
        {
         "name": "review_title",
         "rawType": "object",
         "type": "string"
        },
        {
         "name": "review_content",
         "rawType": "object",
         "type": "string"
        },
        {
         "name": "img_link",
         "rawType": "object",
         "type": "string"
        },
        {
         "name": "product_link",
         "rawType": "object",
         "type": "string"
        }
       ],
       "conversionMethod": "pd.DataFrame",
       "ref": "b6e37ae6-db5d-431b-9116-8e3e0b67d98d",
       "rows": [
        [
         "0",
         "B07JW9H4J1",
         "Wayona Nylon Braided USB to Lightning Fast Charging and Data Sync Cable Compatible for iPhone 13, 12,11, X, 8, 7, 6, 5, iPad Air, Pro, Mini (3 FT Pack of 1, Grey)",
         "Computers&Accessories|Accessories&Peripherals|Cables&Accessories|Cables|USBCables",
         "₹399",
         "₹1,099",
         "64%",
         "4.2",
         "24,269",
         "High Compatibility : Compatible With iPhone 12, 11, X/XsMax/Xr ,iPhone 8/8 Plus,iPhone 7/7 Plus,iPhone 6s/6s Plus,iPhone 6/6 Plus,iPhone 5/5s/5c/se,iPad Pro,iPad Air 1/2,iPad mini 1/2/3,iPod nano7,iPod touch and more apple devices.|Fast Charge&Data Sync : It can charge and sync simultaneously at a rapid speed, Compatible with any charging adaptor, multi-port charging station or power bank.|Durability : Durable nylon braided design with premium aluminum housing and toughened nylon fiber wound tightly around the cord lending it superior durability and adding a bit to its flexibility.|High Security Level : It is designed to fully protect your device from damaging excessive current.Copper core thick+Multilayer shielding, Anti-interference, Protective circuit equipment.|WARRANTY: 12 months warranty and friendly customer services, ensures the long-time enjoyment of your purchase. If you meet any question or problem, please don't hesitate to contact us.",
         "AG3D6O4STAQKAY2UVGEUV46KN35Q,AHMY5CWJMMK5BJRBBSNLYT3ONILA,AHCTC6ULH4XB6YHDY6PCH2R772LQ,AGYHHIERNXKA6P5T7CZLXKVPT7IQ,AG4OGOFWXJZTQ2HKYIOCOY3KXF2Q,AENGU523SXMOS7JPDTW52PNNVWGQ,AEQJHCVTNINBS4FKTBGQRQTGTE5Q,AFC3FFC5PKFF5PMA52S3VCHOZ5FQ",
         "Manav,Adarsh gupta,Sundeep,S.Sayeed Ahmed,jaspreet singh,Khaja moin,Anand,S.ARUMUGAM",
         "R3HXWT0LRP0NMF,R2AJM3LFTLZHFO,R6AQJGUP6P86,R1KD19VHEDV0OR,R3C02RMYQMK6FC,R39GQRVBUZBWGY,R2K9EDOE15QIRJ,R3OI7YT648TL8I",
         "Satisfied,Charging is really fast,Value for money,Product review,Good quality,Good product,Good Product,As of now seems good",
         "Looks durable Charging is fine tooNo complains,Charging is really fast, good product.,Till now satisfied with the quality.,This is a good product . The charging speed is slower than the original iPhone cable,Good quality, would recommend,https://m.media-amazon.com/images/W/WEBP_402378-T1/images/I/81---F1ZgHL._SY88.jpg,Product had worked well till date and was having no issue.Cable is also sturdy enough...Have asked for replacement and company is doing the same...,Value for money",
         "https://m.media-amazon.com/images/W/WEBP_402378-T1/images/I/51UsScvHQNL._SX300_SY300_QL70_FMwebp_.jpg",
         "https://www.amazon.in/Wayona-Braided-WN3LG1-Syncing-Charging/dp/B07JW9H4J1/ref=sr_1_1?qid=1672909124&s=electronics&sr=1-1"
        ],
        [
         "1",
         "B098NS6PVG",
         "Ambrane Unbreakable 60W / 3A Fast Charging 1.5m Braided Type C Cable for Smartphones, Tablets, Laptops & other Type C devices, PD Technology, 480Mbps Data Sync, Quick Charge 3.0 (RCT15A, Black)",
         "Computers&Accessories|Accessories&Peripherals|Cables&Accessories|Cables|USBCables",
         "₹199",
         "₹349",
         "43%",
         "4.0",
         "43,994",
         "Compatible with all Type C enabled devices, be it an android smartphone (Mi, Samsung, Oppo, Vivo, Realme, OnePlus, etc), tablet, laptop (Macbook, Chromebook, etc)|Supports Quick Charging (2.0/3.0)|Unbreakable – Made of special braided outer with rugged interior bindings, it is ultra-durable cable that won’t be affected by daily rough usage|Ideal Length – It has ideal length of 1.5 meters which is neither too short like your typical 1meter cable or too long like a 2meters cable|Supports maximum 3A fast charging and 480 Mbps data transfer speed|6 months manufacturer warranty from the date of purchase",
         "AECPFYFQVRUWC3KGNLJIOREFP5LQ,AGYYVPDD7YG7FYNBXNGXZJT525AQ,AHONIZU3ICIEHQIGQ6R2VFRSBXOQ,AFPHD2CRPDZMWMBL7WXRSVYWS5JA,AEZ346GX3HJ4O4XNRPHCNHXQURMQ,AEPSWFPNECKO34PUC7I56ITGXR6Q,AHWVEHR5DYLVFTO2KF3IZATFQSWQ,AH4QT33M55677I7ISQOAKEQWACYQ",
         "ArdKn,Nirbhay kumar,Sagar Viswanathan,Asp,Placeholder,BharanI,sonia,Niam",
         "RGIQEG07R9HS2,R1SMWZQ86XIN8U,R2J3Y1WL29GWDE,RYGGS0M09S3KY,R17KQRUTAN5DKS,R3AAQGS6HP2QUK,R1HDNOG6TO2CCA,R3PHKXYA5AFEOU",
         "A Good Braided Cable for Your Type C Device,Good quality product from ambrane,Super cable,As,Good quality,Good product,its good,Good quality for the price but one issue with my unit",
         "I ordered this cable to connect my phone to Android Auto of car. The cable is really strong and the connection ports are really well made. I already has a Micro USB cable from Ambrane and it's still in good shape. I connected my phone to the car using the cable and it got connected well and no issues. I also connected it to the charging port and yes it has Fast Charging support.,It quality is good at this price and the main thing is that i didn't ever thought that this cable will be so long it's good one and charging power is too good and also supports fast charging,Value for money, with extra length👍,Good, working fine,Product quality is good,Good,very good,Bought for my daughter's old phone.Brand new cable it was not charging, I already repacked and requested for replacement.I checked again, and there was some green colour paste/fungus inside the micro USB connector. I cleaned with an alcoholic and starts working again.Checked the ampere of charging speed got around 1400ma-1500ma - not bad, came with braided 1.5m long cable, pretty impressive for the price.Can't blame the manufacturer.But quality issues by the distributor, they might have stored in very humid place.",
         "https://m.media-amazon.com/images/W/WEBP_402378-T2/images/I/31zOsqQOAOL._SY445_SX342_QL70_FMwebp_.jpg",
         "https://www.amazon.in/Ambrane-Unbreakable-Charging-Braided-Cable/dp/B098NS6PVG/ref=sr_1_2?qid=1672909124&s=electronics&sr=1-2"
        ],
        [
         "2",
         "B096MSW6CT",
         "Sounce Fast Phone Charging Cable & Data Sync USB Cable Compatible for iPhone 13, 12,11, X, 8, 7, 6, 5, iPad Air, Pro, Mini & iOS Devices",
         "Computers&Accessories|Accessories&Peripherals|Cables&Accessories|Cables|USBCables",
         "₹199",
         "₹1,899",
         "90%",
         "3.9",
         "7,928",
         "【 Fast Charger& Data Sync】-With built-in safety proctections and four-core copper wires promote maximum signal quality and strength and enhance charging & data transfer speed with up to 480 mb/s transferring speed.|【 Compatibility】-Compatible with iPhone 13, 12,11, X, 8, 7, 6, 5, iPad Air, Pro, Mini & iOS devices.|【 Sturdy & Durable】-The jacket and enforced connector made of TPE and premium copper, are resistant to repeatedly bending and coiling.|【 Ultra High Quality】: According to the experimental results, the fishbone design can accept at least 20,000 bending and insertion tests for extra protection and durability. Upgraded 3D aluminum connector and exclusive laser welding technology, which to ensure the metal part won't break and also have a tighter connection which fits well even with a protective case on and will never loose connection.|【 Good After Sales Service】-Our friendly and reliable customer service will respond to you within 24 hours ! you can purchase with confidence,and every sale includes a 365-day worry-free Service to prove the importance we set on quality.",
         "AGU3BBQ2V2DDAMOAKGFAWDDQ6QHA,AESFLDV2PT363T2AQLWQOWZ4N3OA,AHTPQRIMGUD4BYR5YIHBH3CCGEFQ,AEUVWXYP5LT7PZLLZENEO2NODPBQ,AHC7MPW55DOO6WNCOQVA2VHOD26A,AFDI6FRPFBTNBG7BAEB7JDJSMKDQ,AFQKCEEEKXCOHTDG4WUN3XPPHJQQ,AHKUUFNMBZIDLSSPA4FEHIO2EC7Q",
         "Kunal,Himanshu,viswanath,sai niharka,saqib malik,Aashiq,Ramu Challa,Sanjay gupta",
         "R3J3EQQ9TZI5ZJ,R3E7WBGK7ID0KV,RWU79XKQ6I1QF,R25X4TBMPY91LX,R27OK7G99VK0TR,R207CYDCHJJTCJ,R3PCU8XMU173BT,R1IMONDOWRNU5V",
         "Good speed for earlier versions,Good Product,Working good,Good for the price,Good,Worth for money,Working nice,it's a really nice product",
         "Not quite durable and sturdy,https://m.media-amazon.com/images/W/WEBP_402378-T1/images/I/71rIggrbUCL._SY88.jpg,Working good,https://m.media-amazon.com/images/W/WEBP_402378-T1/images/I/61bKp9YO6wL._SY88.jpg,Product,Very nice product,Working well,It's a really nice product",
         "https://m.media-amazon.com/images/W/WEBP_402378-T1/images/I/31IvNJZnmdL._SY445_SX342_QL70_FMwebp_.jpg",
         "https://www.amazon.in/Sounce-iPhone-Charging-Compatible-Devices/dp/B096MSW6CT/ref=sr_1_3?qid=1672909124&s=electronics&sr=1-3"
        ],
        [
         "3",
         "B08HDJ86NZ",
         "boAt Deuce USB 300 2 in 1 Type-C & Micro USB Stress Resistant, Tangle-Free, Sturdy Cable with 3A Fast Charging & 480mbps Data Transmission, 10000+ Bends Lifespan and Extended 1.5m Length(Martian Red)",
         "Computers&Accessories|Accessories&Peripherals|Cables&Accessories|Cables|USBCables",
         "₹329",
         "₹699",
         "53%",
         "4.2",
         "94,363",
         "The boAt Deuce USB 300 2 in 1 cable is compatible with smartphones, tablets, PC peripherals, Bluetooth speakers, power banks and all other devices with Type-C as well as Micro USB port|It ensures 3A fast charging and data transmissions with rapid sync at 480 mbps|The premium Nylon braided skin makes it sturdy and invincible against external damage|Its Aluminium alloy shell housing makes it last longer with 10000+ Bends Lifespan with extended frame protection for strain relief|The resilient and flexible design offers a tangle free experience seamlessly|Deuce USB 300 cable offers a perfect 1.5 meters in length for smooth & hassle-free user experience|2 years warranty from the date of purchase",
         "AEWAZDZZJLQUYVOVGBEUKSLXHQ5A,AG5HTSFRRE6NL3M5SGCUQBP7YSCA,AH725ST5NW2Y4JZPKUNTIJCUK2BA,AHV3TXIFCJPMS4D5JATCEUR266MQ,AGWIGDEMFIIUAOXYY2QATNBSUGHA,AFSTSLQUV4EVEXWKBOLEFHL2H5YQ,AGAKDNBHY2FKX7I4ACRGILU7QL7A,AFNWJUWJRHCC6HN52KMG5AKZY37Q",
         "Omkar dhale,JD,HEMALATHA,Ajwadh a.,amar singh chouhan,Ravi Siddan,Himanshu Goel,Udaykumar",
         "R3EEUZKKK9J36I,R3HJVYCLYOY554,REDECAZ7AMPQC,R1CLH2ULIVG5U3,R2DMKIBGFKBD6R,RC89B5IAJUTR5,R3B3DDON5FH8DS,R13WAEJDI5RS36",
         "Good product,Good one,Nice,Really nice product,Very first time change,Good,Fine product but could be better,Very nice it's charging like jet",
         "Good product,long wire,Charges good,Nice,I bought this cable for Rs.339 worthy product for this price, i tested it in various charger adapters 33w and 18w it supports fast charging as well.,Good,Ok,I had got this at good price on sale on Amazon and product is useful with warranty but for warranty you need to go very far not practical for such a cost and mine micro to type c connector stopped working after few days only.,I like this product",
         "https://m.media-amazon.com/images/I/41V5FtEWPkL._SX300_SY300_QL70_FMwebp_.jpg",
         "https://www.amazon.in/Deuce-300-Resistant-Tangle-Free-Transmission/dp/B08HDJ86NZ/ref=sr_1_4?qid=1672909124&s=electronics&sr=1-4"
        ],
        [
         "4",
         "B08CF3B7N1",
         "Portronics Konnect L 1.2M Fast Charging 3A 8 Pin USB Cable with Charge & Sync Function for iPhone, iPad (Grey)",
         "Computers&Accessories|Accessories&Peripherals|Cables&Accessories|Cables|USBCables",
         "₹154",
         "₹399",
         "61%",
         "4.2",
         "16,905",
         "[CHARGE & SYNC FUNCTION]- This cable comes with charging & Data sync function|[HIGH QUALITY MATERIAL]- TPE + Nylon Material to make sure that the life of the cable is enhanced significantly|[LONG CORD]- The Cable is extra thick 1.2 meter long, optimized for an easy use for your comfort at home or office|[MORE DURABLE]-This cable is unique interms of design and multi-use and is positioned to provide the best comfort and performance while using|[UNIVERSAL COMPATIBILITY]- Compatible with all devices like iPhone XS, X, XR, 8, 7, 6S, 6, 5S, iPad Pro, iPad mini and iPad Air",
         "AE3Q6KSUK5P75D5HFYHCRAOLODSA,AFUGIFH5ZAFXRDSZHM4QB2KPKFUQ,AFK4NJOLFSJGWLOJIUIAROJF6YVA,AFUOTYRFUXVPEBGIXVZZ7DR3CZUA,AFDLRSXKDZ6U3U3KD46SQLFGZQRA,AH5VLM66SIK7J3IRG4NY7XVOQ55A,AE3MQNNHHLUHXURL5S7IAR7JTGNQ,AFSEOFZY67MYC7UAJU264Z5NFTLA",
         "rahuls6099,Swasat Borah,Ajay Wadke,Pranali,RVK,Bhargav,Durai Vignesh,Amazon Customer",
         "R1BP4L2HH9TFUP,R16PVJEXKV6QZS,R2UPDB81N66T4P,R3KK4GT934ST3I,RCFHMWUSBIJO,RDO7DACXMAJ84,R3A6MEZL3LY66Z,R1ESIEKPGAYA29",
         "As good as original,Decent,Good one for secondary use,Best quality,GOOD,Amazing product at a mind blowing price!,Nice Quality,Good product",
         "Bought this instead of original apple, does the work for 150rs, not as fast as apple charger but its a good option if you want cheap and good product, bought it for iPad pro 10.5 and it's working flawlessly, build quality is ok, its not like i am gonna hang my clothes on it and i want a very strong cable, even a braided cable stop working after a year, i have used both Anker and Apple store strong braided cable they all stop working after a year so please don't buy high end cables just for that instead choose a this one and even if it's stops working withing a year you only loose 150rs compares to 2000rs.UPDATE------------------------------------pin has stopped charging from one side, now i have to slip the pin to charge from other side, but i will update and let know for how long does it work,,It’s good. Not sure about durability as the pin area feels a bit fragile,Does not support apple carplaySo was little disappointed about thatOther than that cable is made up of very good quality,Best to buy,100% NOT FATHFUL,Writing this review post 10 months and 3 orders of the same product.Honestly Portronics Konnect L lightning cable works like magic with the original Apple charging brick.Seeing the price of the cable I initially hesitated buying as it was as low as ₹99/- with the offers and so I wasn’t sure if it would work well with my iPhone 12 or whether it would impact my iPhone’s battery health because all the other lightning cable brands were costing over ₹350/- like Wayona, Amazon Basics, etc.Earlier I was using Wayona Brand lightning cable with eventually frayed and stopped working.Charging Speed:Charges my iPhone fast enough almost similar compared to the original cable level when used with 12W Original Apple power adapter.Quality and Durability:Great quality braided cable and doesn’t tangle easily and can withstand day-to-day usage.L-Shaped pin:This is very innovative by Portronics and it makes sure the cable doesn’t get damaged even if used while charging.CarPlay and Data Sync:Works smoothly with CarPlay and syncs data effortlessly.PS: I have used this cable only with the Original Apple Charging Brick and extremely satisfied with its performance.,Better than I expect the product I like that Quality and I plan to buy same type cable come with usb C to Lighting cable for emergency purpose that much I love this cable. Buy for this cable only emergency uses only since Good one,Good product and value for money",
         "https://m.media-amazon.com/images/W/WEBP_402378-T2/images/I/31VzNhhqifL._SX300_SY300_QL70_FMwebp_.jpg",
         "https://www.amazon.in/Portronics-Konnect-POR-1080-Charging-Function/dp/B08CF3B7N1/ref=sr_1_5?qid=1672909124&s=electronics&sr=1-5"
        ]
       ],
       "shape": {
        "columns": 16,
        "rows": 5
       }
      },
      "text/html": [
       "<div>\n",
       "<style scoped>\n",
       "    .dataframe tbody tr th:only-of-type {\n",
       "        vertical-align: middle;\n",
       "    }\n",
       "\n",
       "    .dataframe tbody tr th {\n",
       "        vertical-align: top;\n",
       "    }\n",
       "\n",
       "    .dataframe thead th {\n",
       "        text-align: right;\n",
       "    }\n",
       "</style>\n",
       "<table border=\"1\" class=\"dataframe\">\n",
       "  <thead>\n",
       "    <tr style=\"text-align: right;\">\n",
       "      <th></th>\n",
       "      <th>product_id</th>\n",
       "      <th>product_name</th>\n",
       "      <th>category</th>\n",
       "      <th>discounted_price</th>\n",
       "      <th>actual_price</th>\n",
       "      <th>discount_percentage</th>\n",
       "      <th>rating</th>\n",
       "      <th>rating_count</th>\n",
       "      <th>about_product</th>\n",
       "      <th>user_id</th>\n",
       "      <th>user_name</th>\n",
       "      <th>review_id</th>\n",
       "      <th>review_title</th>\n",
       "      <th>review_content</th>\n",
       "      <th>img_link</th>\n",
       "      <th>product_link</th>\n",
       "    </tr>\n",
       "  </thead>\n",
       "  <tbody>\n",
       "    <tr>\n",
       "      <th>0</th>\n",
       "      <td>B07JW9H4J1</td>\n",
       "      <td>Wayona Nylon Braided USB to Lightning Fast Cha...</td>\n",
       "      <td>Computers&amp;Accessories|Accessories&amp;Peripherals|...</td>\n",
       "      <td>₹399</td>\n",
       "      <td>₹1,099</td>\n",
       "      <td>64%</td>\n",
       "      <td>4.2</td>\n",
       "      <td>24,269</td>\n",
       "      <td>High Compatibility : Compatible With iPhone 12...</td>\n",
       "      <td>AG3D6O4STAQKAY2UVGEUV46KN35Q,AHMY5CWJMMK5BJRBB...</td>\n",
       "      <td>Manav,Adarsh gupta,Sundeep,S.Sayeed Ahmed,jasp...</td>\n",
       "      <td>R3HXWT0LRP0NMF,R2AJM3LFTLZHFO,R6AQJGUP6P86,R1K...</td>\n",
       "      <td>Satisfied,Charging is really fast,Value for mo...</td>\n",
       "      <td>Looks durable Charging is fine tooNo complains...</td>\n",
       "      <td>https://m.media-amazon.com/images/W/WEBP_40237...</td>\n",
       "      <td>https://www.amazon.in/Wayona-Braided-WN3LG1-Sy...</td>\n",
       "    </tr>\n",
       "    <tr>\n",
       "      <th>1</th>\n",
       "      <td>B098NS6PVG</td>\n",
       "      <td>Ambrane Unbreakable 60W / 3A Fast Charging 1.5...</td>\n",
       "      <td>Computers&amp;Accessories|Accessories&amp;Peripherals|...</td>\n",
       "      <td>₹199</td>\n",
       "      <td>₹349</td>\n",
       "      <td>43%</td>\n",
       "      <td>4.0</td>\n",
       "      <td>43,994</td>\n",
       "      <td>Compatible with all Type C enabled devices, be...</td>\n",
       "      <td>AECPFYFQVRUWC3KGNLJIOREFP5LQ,AGYYVPDD7YG7FYNBX...</td>\n",
       "      <td>ArdKn,Nirbhay kumar,Sagar Viswanathan,Asp,Plac...</td>\n",
       "      <td>RGIQEG07R9HS2,R1SMWZQ86XIN8U,R2J3Y1WL29GWDE,RY...</td>\n",
       "      <td>A Good Braided Cable for Your Type C Device,Go...</td>\n",
       "      <td>I ordered this cable to connect my phone to An...</td>\n",
       "      <td>https://m.media-amazon.com/images/W/WEBP_40237...</td>\n",
       "      <td>https://www.amazon.in/Ambrane-Unbreakable-Char...</td>\n",
       "    </tr>\n",
       "    <tr>\n",
       "      <th>2</th>\n",
       "      <td>B096MSW6CT</td>\n",
       "      <td>Sounce Fast Phone Charging Cable &amp; Data Sync U...</td>\n",
       "      <td>Computers&amp;Accessories|Accessories&amp;Peripherals|...</td>\n",
       "      <td>₹199</td>\n",
       "      <td>₹1,899</td>\n",
       "      <td>90%</td>\n",
       "      <td>3.9</td>\n",
       "      <td>7,928</td>\n",
       "      <td>【 Fast Charger&amp; Data Sync】-With built-in safet...</td>\n",
       "      <td>AGU3BBQ2V2DDAMOAKGFAWDDQ6QHA,AESFLDV2PT363T2AQ...</td>\n",
       "      <td>Kunal,Himanshu,viswanath,sai niharka,saqib mal...</td>\n",
       "      <td>R3J3EQQ9TZI5ZJ,R3E7WBGK7ID0KV,RWU79XKQ6I1QF,R2...</td>\n",
       "      <td>Good speed for earlier versions,Good Product,W...</td>\n",
       "      <td>Not quite durable and sturdy,https://m.media-a...</td>\n",
       "      <td>https://m.media-amazon.com/images/W/WEBP_40237...</td>\n",
       "      <td>https://www.amazon.in/Sounce-iPhone-Charging-C...</td>\n",
       "    </tr>\n",
       "    <tr>\n",
       "      <th>3</th>\n",
       "      <td>B08HDJ86NZ</td>\n",
       "      <td>boAt Deuce USB 300 2 in 1 Type-C &amp; Micro USB S...</td>\n",
       "      <td>Computers&amp;Accessories|Accessories&amp;Peripherals|...</td>\n",
       "      <td>₹329</td>\n",
       "      <td>₹699</td>\n",
       "      <td>53%</td>\n",
       "      <td>4.2</td>\n",
       "      <td>94,363</td>\n",
       "      <td>The boAt Deuce USB 300 2 in 1 cable is compati...</td>\n",
       "      <td>AEWAZDZZJLQUYVOVGBEUKSLXHQ5A,AG5HTSFRRE6NL3M5S...</td>\n",
       "      <td>Omkar dhale,JD,HEMALATHA,Ajwadh a.,amar singh ...</td>\n",
       "      <td>R3EEUZKKK9J36I,R3HJVYCLYOY554,REDECAZ7AMPQC,R1...</td>\n",
       "      <td>Good product,Good one,Nice,Really nice product...</td>\n",
       "      <td>Good product,long wire,Charges good,Nice,I bou...</td>\n",
       "      <td>https://m.media-amazon.com/images/I/41V5FtEWPk...</td>\n",
       "      <td>https://www.amazon.in/Deuce-300-Resistant-Tang...</td>\n",
       "    </tr>\n",
       "    <tr>\n",
       "      <th>4</th>\n",
       "      <td>B08CF3B7N1</td>\n",
       "      <td>Portronics Konnect L 1.2M Fast Charging 3A 8 P...</td>\n",
       "      <td>Computers&amp;Accessories|Accessories&amp;Peripherals|...</td>\n",
       "      <td>₹154</td>\n",
       "      <td>₹399</td>\n",
       "      <td>61%</td>\n",
       "      <td>4.2</td>\n",
       "      <td>16,905</td>\n",
       "      <td>[CHARGE &amp; SYNC FUNCTION]- This cable comes wit...</td>\n",
       "      <td>AE3Q6KSUK5P75D5HFYHCRAOLODSA,AFUGIFH5ZAFXRDSZH...</td>\n",
       "      <td>rahuls6099,Swasat Borah,Ajay Wadke,Pranali,RVK...</td>\n",
       "      <td>R1BP4L2HH9TFUP,R16PVJEXKV6QZS,R2UPDB81N66T4P,R...</td>\n",
       "      <td>As good as original,Decent,Good one for second...</td>\n",
       "      <td>Bought this instead of original apple, does th...</td>\n",
       "      <td>https://m.media-amazon.com/images/W/WEBP_40237...</td>\n",
       "      <td>https://www.amazon.in/Portronics-Konnect-POR-1...</td>\n",
       "    </tr>\n",
       "  </tbody>\n",
       "</table>\n",
       "</div>"
      ],
      "text/plain": [
       "   product_id                                       product_name  \\\n",
       "0  B07JW9H4J1  Wayona Nylon Braided USB to Lightning Fast Cha...   \n",
       "1  B098NS6PVG  Ambrane Unbreakable 60W / 3A Fast Charging 1.5...   \n",
       "2  B096MSW6CT  Sounce Fast Phone Charging Cable & Data Sync U...   \n",
       "3  B08HDJ86NZ  boAt Deuce USB 300 2 in 1 Type-C & Micro USB S...   \n",
       "4  B08CF3B7N1  Portronics Konnect L 1.2M Fast Charging 3A 8 P...   \n",
       "\n",
       "                                            category discounted_price  \\\n",
       "0  Computers&Accessories|Accessories&Peripherals|...             ₹399   \n",
       "1  Computers&Accessories|Accessories&Peripherals|...             ₹199   \n",
       "2  Computers&Accessories|Accessories&Peripherals|...             ₹199   \n",
       "3  Computers&Accessories|Accessories&Peripherals|...             ₹329   \n",
       "4  Computers&Accessories|Accessories&Peripherals|...             ₹154   \n",
       "\n",
       "  actual_price discount_percentage rating rating_count  \\\n",
       "0       ₹1,099                 64%    4.2       24,269   \n",
       "1         ₹349                 43%    4.0       43,994   \n",
       "2       ₹1,899                 90%    3.9        7,928   \n",
       "3         ₹699                 53%    4.2       94,363   \n",
       "4         ₹399                 61%    4.2       16,905   \n",
       "\n",
       "                                       about_product  \\\n",
       "0  High Compatibility : Compatible With iPhone 12...   \n",
       "1  Compatible with all Type C enabled devices, be...   \n",
       "2  【 Fast Charger& Data Sync】-With built-in safet...   \n",
       "3  The boAt Deuce USB 300 2 in 1 cable is compati...   \n",
       "4  [CHARGE & SYNC FUNCTION]- This cable comes wit...   \n",
       "\n",
       "                                             user_id  \\\n",
       "0  AG3D6O4STAQKAY2UVGEUV46KN35Q,AHMY5CWJMMK5BJRBB...   \n",
       "1  AECPFYFQVRUWC3KGNLJIOREFP5LQ,AGYYVPDD7YG7FYNBX...   \n",
       "2  AGU3BBQ2V2DDAMOAKGFAWDDQ6QHA,AESFLDV2PT363T2AQ...   \n",
       "3  AEWAZDZZJLQUYVOVGBEUKSLXHQ5A,AG5HTSFRRE6NL3M5S...   \n",
       "4  AE3Q6KSUK5P75D5HFYHCRAOLODSA,AFUGIFH5ZAFXRDSZH...   \n",
       "\n",
       "                                           user_name  \\\n",
       "0  Manav,Adarsh gupta,Sundeep,S.Sayeed Ahmed,jasp...   \n",
       "1  ArdKn,Nirbhay kumar,Sagar Viswanathan,Asp,Plac...   \n",
       "2  Kunal,Himanshu,viswanath,sai niharka,saqib mal...   \n",
       "3  Omkar dhale,JD,HEMALATHA,Ajwadh a.,amar singh ...   \n",
       "4  rahuls6099,Swasat Borah,Ajay Wadke,Pranali,RVK...   \n",
       "\n",
       "                                           review_id  \\\n",
       "0  R3HXWT0LRP0NMF,R2AJM3LFTLZHFO,R6AQJGUP6P86,R1K...   \n",
       "1  RGIQEG07R9HS2,R1SMWZQ86XIN8U,R2J3Y1WL29GWDE,RY...   \n",
       "2  R3J3EQQ9TZI5ZJ,R3E7WBGK7ID0KV,RWU79XKQ6I1QF,R2...   \n",
       "3  R3EEUZKKK9J36I,R3HJVYCLYOY554,REDECAZ7AMPQC,R1...   \n",
       "4  R1BP4L2HH9TFUP,R16PVJEXKV6QZS,R2UPDB81N66T4P,R...   \n",
       "\n",
       "                                        review_title  \\\n",
       "0  Satisfied,Charging is really fast,Value for mo...   \n",
       "1  A Good Braided Cable for Your Type C Device,Go...   \n",
       "2  Good speed for earlier versions,Good Product,W...   \n",
       "3  Good product,Good one,Nice,Really nice product...   \n",
       "4  As good as original,Decent,Good one for second...   \n",
       "\n",
       "                                      review_content  \\\n",
       "0  Looks durable Charging is fine tooNo complains...   \n",
       "1  I ordered this cable to connect my phone to An...   \n",
       "2  Not quite durable and sturdy,https://m.media-a...   \n",
       "3  Good product,long wire,Charges good,Nice,I bou...   \n",
       "4  Bought this instead of original apple, does th...   \n",
       "\n",
       "                                            img_link  \\\n",
       "0  https://m.media-amazon.com/images/W/WEBP_40237...   \n",
       "1  https://m.media-amazon.com/images/W/WEBP_40237...   \n",
       "2  https://m.media-amazon.com/images/W/WEBP_40237...   \n",
       "3  https://m.media-amazon.com/images/I/41V5FtEWPk...   \n",
       "4  https://m.media-amazon.com/images/W/WEBP_40237...   \n",
       "\n",
       "                                        product_link  \n",
       "0  https://www.amazon.in/Wayona-Braided-WN3LG1-Sy...  \n",
       "1  https://www.amazon.in/Ambrane-Unbreakable-Char...  \n",
       "2  https://www.amazon.in/Sounce-iPhone-Charging-C...  \n",
       "3  https://www.amazon.in/Deuce-300-Resistant-Tang...  \n",
       "4  https://www.amazon.in/Portronics-Konnect-POR-1...  "
      ]
     },
     "execution_count": 302,
     "metadata": {},
     "output_type": "execute_result"
    }
   ],
   "source": [
    "df_sales.head(5)"
   ]
  },
  {
   "cell_type": "code",
   "execution_count": 303,
   "id": "60a46f2b",
   "metadata": {},
   "outputs": [
    {
     "name": "stdout",
     "output_type": "stream",
     "text": [
      "<class 'pandas.core.frame.DataFrame'>\n",
      "RangeIndex: 1465 entries, 0 to 1464\n",
      "Data columns (total 16 columns):\n",
      " #   Column               Non-Null Count  Dtype \n",
      "---  ------               --------------  ----- \n",
      " 0   product_id           1465 non-null   object\n",
      " 1   product_name         1465 non-null   object\n",
      " 2   category             1465 non-null   object\n",
      " 3   discounted_price     1465 non-null   object\n",
      " 4   actual_price         1465 non-null   object\n",
      " 5   discount_percentage  1465 non-null   object\n",
      " 6   rating               1465 non-null   object\n",
      " 7   rating_count         1463 non-null   object\n",
      " 8   about_product        1465 non-null   object\n",
      " 9   user_id              1465 non-null   object\n",
      " 10  user_name            1465 non-null   object\n",
      " 11  review_id            1465 non-null   object\n",
      " 12  review_title         1465 non-null   object\n",
      " 13  review_content       1465 non-null   object\n",
      " 14  img_link             1465 non-null   object\n",
      " 15  product_link         1465 non-null   object\n",
      "dtypes: object(16)\n",
      "memory usage: 183.3+ KB\n"
     ]
    }
   ],
   "source": [
    "df_sales.info()"
   ]
  },
  {
   "cell_type": "markdown",
   "id": "9f4788ba",
   "metadata": {},
   "source": [
    "Le jeu de données est composé de **1465** produits. Toutes les variables du jeu de données sont sous un format de **chaînes de caractères**. Il faudra prévoir la conversion de certaines variables en **float** ou **int** afin d'effectuer les analyses requisent. On note également que des **signes monétaire** se situent devant les prix des produits ainsi qu'un signe **\"%\"** devant le pourcentage de remise. De la même manière, il faudra hôter et convertir la variable en **variable numérique**"
   ]
  },
  {
   "cell_type": "code",
   "execution_count": 304,
   "id": "ca3eabf7",
   "metadata": {},
   "outputs": [
    {
     "data": {
      "text/plain": [
       "product_id             0\n",
       "product_name           0\n",
       "category               0\n",
       "discounted_price       0\n",
       "actual_price           0\n",
       "discount_percentage    0\n",
       "rating                 0\n",
       "rating_count           2\n",
       "about_product          0\n",
       "user_id                0\n",
       "user_name              0\n",
       "review_id              0\n",
       "review_title           0\n",
       "review_content         0\n",
       "img_link               0\n",
       "product_link           0\n",
       "dtype: int64"
      ]
     },
     "execution_count": 304,
     "metadata": {},
     "output_type": "execute_result"
    }
   ],
   "source": [
    "df_sales.isna().sum()"
   ]
  },
  {
   "cell_type": "markdown",
   "id": "7bccfe73",
   "metadata": {},
   "source": [
    "Il manque 2 valeurs dans la colonne correspondant au nombre de note du produit."
   ]
  },
  {
   "cell_type": "markdown",
   "id": "3104ebf9",
   "metadata": {},
   "source": [
    "### Nettoyage des données"
   ]
  },
  {
   "cell_type": "markdown",
   "id": "5bc24cf7",
   "metadata": {},
   "source": [
    "On replace ces valeurs manquantes pour des \"0\""
   ]
  },
  {
   "cell_type": "code",
   "execution_count": 305,
   "id": "81338095",
   "metadata": {},
   "outputs": [],
   "source": [
    "df_sales['rating_count'] = df_sales['rating_count'].fillna('0')"
   ]
  },
  {
   "cell_type": "code",
   "execution_count": 306,
   "id": "b9a22e88",
   "metadata": {},
   "outputs": [
    {
     "data": {
      "text/plain": [
       "product_id             0\n",
       "product_name           0\n",
       "category               0\n",
       "discounted_price       0\n",
       "actual_price           0\n",
       "discount_percentage    0\n",
       "rating                 0\n",
       "rating_count           0\n",
       "about_product          0\n",
       "user_id                0\n",
       "user_name              0\n",
       "review_id              0\n",
       "review_title           0\n",
       "review_content         0\n",
       "img_link               0\n",
       "product_link           0\n",
       "dtype: int64"
      ]
     },
     "execution_count": 306,
     "metadata": {},
     "output_type": "execute_result"
    }
   ],
   "source": [
    "df_sales.isna().sum()"
   ]
  },
  {
   "cell_type": "markdown",
   "id": "00223d88",
   "metadata": {},
   "source": [
    "Nous retirons les signes monétaire qui se situent devant les prix des produits."
   ]
  },
  {
   "cell_type": "code",
   "execution_count": 307,
   "id": "c70ac9ab",
   "metadata": {},
   "outputs": [],
   "source": [
    "cols_to_modify = ['discounted_price','actual_price']\n",
    "for col in cols_to_modify:\n",
    "    df_sales[col] = df_sales[col].str[1:]"
   ]
  },
  {
   "cell_type": "markdown",
   "id": "3b22ad6e",
   "metadata": {},
   "source": [
    "Nous remplacons les **\",\"** qui se situent dans les colonnes contenant **les prix**, celle contenant le **nombre de note** et celle contenant la **note du produit** pour les remplacer par des **\".\"**.\n",
    "Nous retirons le signe **\"%\"** de la colonne contenant le **pourcentage de remise** sur le produit et nous **convertissons** l'ensemble de ces variables en **variables numériques**."
   ]
  },
  {
   "cell_type": "code",
   "execution_count": 308,
   "id": "416e5052",
   "metadata": {},
   "outputs": [],
   "source": [
    "cols_change_typ = ['discounted_price','actual_price','discount_percentage','rating','rating_count']\n",
    "df_sales[cols_change_typ] = df_sales[cols_change_typ].replace({',':'.','%':''}, regex=True).apply(pd.to_numeric, errors = 'coerce')"
   ]
  },
  {
   "cell_type": "code",
   "execution_count": 309,
   "id": "fefd662a",
   "metadata": {},
   "outputs": [
    {
     "data": {
      "application/vnd.microsoft.datawrangler.viewer.v0+json": {
       "columns": [
        {
         "name": "index",
         "rawType": "int64",
         "type": "integer"
        },
        {
         "name": "product_id",
         "rawType": "object",
         "type": "string"
        },
        {
         "name": "product_name",
         "rawType": "object",
         "type": "string"
        },
        {
         "name": "category",
         "rawType": "object",
         "type": "string"
        },
        {
         "name": "discounted_price",
         "rawType": "float64",
         "type": "float"
        },
        {
         "name": "actual_price",
         "rawType": "float64",
         "type": "float"
        },
        {
         "name": "discount_percentage",
         "rawType": "int64",
         "type": "integer"
        },
        {
         "name": "rating",
         "rawType": "float64",
         "type": "float"
        },
        {
         "name": "rating_count",
         "rawType": "float64",
         "type": "float"
        },
        {
         "name": "about_product",
         "rawType": "object",
         "type": "string"
        },
        {
         "name": "user_id",
         "rawType": "object",
         "type": "string"
        },
        {
         "name": "user_name",
         "rawType": "object",
         "type": "string"
        },
        {
         "name": "review_id",
         "rawType": "object",
         "type": "string"
        },
        {
         "name": "review_title",
         "rawType": "object",
         "type": "string"
        },
        {
         "name": "review_content",
         "rawType": "object",
         "type": "string"
        },
        {
         "name": "img_link",
         "rawType": "object",
         "type": "string"
        },
        {
         "name": "product_link",
         "rawType": "object",
         "type": "string"
        }
       ],
       "conversionMethod": "pd.DataFrame",
       "ref": "b045d1a9-5685-43ca-842e-4e87a6b897a6",
       "rows": [
        [
         "0",
         "B07JW9H4J1",
         "Wayona Nylon Braided USB to Lightning Fast Charging and Data Sync Cable Compatible for iPhone 13, 12,11, X, 8, 7, 6, 5, iPad Air, Pro, Mini (3 FT Pack of 1, Grey)",
         "Computers&Accessories|Accessories&Peripherals|Cables&Accessories|Cables|USBCables",
         "399.0",
         "1.099",
         "64",
         "4.2",
         "24.269",
         "High Compatibility : Compatible With iPhone 12, 11, X/XsMax/Xr ,iPhone 8/8 Plus,iPhone 7/7 Plus,iPhone 6s/6s Plus,iPhone 6/6 Plus,iPhone 5/5s/5c/se,iPad Pro,iPad Air 1/2,iPad mini 1/2/3,iPod nano7,iPod touch and more apple devices.|Fast Charge&Data Sync : It can charge and sync simultaneously at a rapid speed, Compatible with any charging adaptor, multi-port charging station or power bank.|Durability : Durable nylon braided design with premium aluminum housing and toughened nylon fiber wound tightly around the cord lending it superior durability and adding a bit to its flexibility.|High Security Level : It is designed to fully protect your device from damaging excessive current.Copper core thick+Multilayer shielding, Anti-interference, Protective circuit equipment.|WARRANTY: 12 months warranty and friendly customer services, ensures the long-time enjoyment of your purchase. If you meet any question or problem, please don't hesitate to contact us.",
         "AG3D6O4STAQKAY2UVGEUV46KN35Q,AHMY5CWJMMK5BJRBBSNLYT3ONILA,AHCTC6ULH4XB6YHDY6PCH2R772LQ,AGYHHIERNXKA6P5T7CZLXKVPT7IQ,AG4OGOFWXJZTQ2HKYIOCOY3KXF2Q,AENGU523SXMOS7JPDTW52PNNVWGQ,AEQJHCVTNINBS4FKTBGQRQTGTE5Q,AFC3FFC5PKFF5PMA52S3VCHOZ5FQ",
         "Manav,Adarsh gupta,Sundeep,S.Sayeed Ahmed,jaspreet singh,Khaja moin,Anand,S.ARUMUGAM",
         "R3HXWT0LRP0NMF,R2AJM3LFTLZHFO,R6AQJGUP6P86,R1KD19VHEDV0OR,R3C02RMYQMK6FC,R39GQRVBUZBWGY,R2K9EDOE15QIRJ,R3OI7YT648TL8I",
         "Satisfied,Charging is really fast,Value for money,Product review,Good quality,Good product,Good Product,As of now seems good",
         "Looks durable Charging is fine tooNo complains,Charging is really fast, good product.,Till now satisfied with the quality.,This is a good product . The charging speed is slower than the original iPhone cable,Good quality, would recommend,https://m.media-amazon.com/images/W/WEBP_402378-T1/images/I/81---F1ZgHL._SY88.jpg,Product had worked well till date and was having no issue.Cable is also sturdy enough...Have asked for replacement and company is doing the same...,Value for money",
         "https://m.media-amazon.com/images/W/WEBP_402378-T1/images/I/51UsScvHQNL._SX300_SY300_QL70_FMwebp_.jpg",
         "https://www.amazon.in/Wayona-Braided-WN3LG1-Syncing-Charging/dp/B07JW9H4J1/ref=sr_1_1?qid=1672909124&s=electronics&sr=1-1"
        ],
        [
         "1",
         "B098NS6PVG",
         "Ambrane Unbreakable 60W / 3A Fast Charging 1.5m Braided Type C Cable for Smartphones, Tablets, Laptops & other Type C devices, PD Technology, 480Mbps Data Sync, Quick Charge 3.0 (RCT15A, Black)",
         "Computers&Accessories|Accessories&Peripherals|Cables&Accessories|Cables|USBCables",
         "199.0",
         "349.0",
         "43",
         "4.0",
         "43.994",
         "Compatible with all Type C enabled devices, be it an android smartphone (Mi, Samsung, Oppo, Vivo, Realme, OnePlus, etc), tablet, laptop (Macbook, Chromebook, etc)|Supports Quick Charging (2.0/3.0)|Unbreakable – Made of special braided outer with rugged interior bindings, it is ultra-durable cable that won’t be affected by daily rough usage|Ideal Length – It has ideal length of 1.5 meters which is neither too short like your typical 1meter cable or too long like a 2meters cable|Supports maximum 3A fast charging and 480 Mbps data transfer speed|6 months manufacturer warranty from the date of purchase",
         "AECPFYFQVRUWC3KGNLJIOREFP5LQ,AGYYVPDD7YG7FYNBXNGXZJT525AQ,AHONIZU3ICIEHQIGQ6R2VFRSBXOQ,AFPHD2CRPDZMWMBL7WXRSVYWS5JA,AEZ346GX3HJ4O4XNRPHCNHXQURMQ,AEPSWFPNECKO34PUC7I56ITGXR6Q,AHWVEHR5DYLVFTO2KF3IZATFQSWQ,AH4QT33M55677I7ISQOAKEQWACYQ",
         "ArdKn,Nirbhay kumar,Sagar Viswanathan,Asp,Placeholder,BharanI,sonia,Niam",
         "RGIQEG07R9HS2,R1SMWZQ86XIN8U,R2J3Y1WL29GWDE,RYGGS0M09S3KY,R17KQRUTAN5DKS,R3AAQGS6HP2QUK,R1HDNOG6TO2CCA,R3PHKXYA5AFEOU",
         "A Good Braided Cable for Your Type C Device,Good quality product from ambrane,Super cable,As,Good quality,Good product,its good,Good quality for the price but one issue with my unit",
         "I ordered this cable to connect my phone to Android Auto of car. The cable is really strong and the connection ports are really well made. I already has a Micro USB cable from Ambrane and it's still in good shape. I connected my phone to the car using the cable and it got connected well and no issues. I also connected it to the charging port and yes it has Fast Charging support.,It quality is good at this price and the main thing is that i didn't ever thought that this cable will be so long it's good one and charging power is too good and also supports fast charging,Value for money, with extra length👍,Good, working fine,Product quality is good,Good,very good,Bought for my daughter's old phone.Brand new cable it was not charging, I already repacked and requested for replacement.I checked again, and there was some green colour paste/fungus inside the micro USB connector. I cleaned with an alcoholic and starts working again.Checked the ampere of charging speed got around 1400ma-1500ma - not bad, came with braided 1.5m long cable, pretty impressive for the price.Can't blame the manufacturer.But quality issues by the distributor, they might have stored in very humid place.",
         "https://m.media-amazon.com/images/W/WEBP_402378-T2/images/I/31zOsqQOAOL._SY445_SX342_QL70_FMwebp_.jpg",
         "https://www.amazon.in/Ambrane-Unbreakable-Charging-Braided-Cable/dp/B098NS6PVG/ref=sr_1_2?qid=1672909124&s=electronics&sr=1-2"
        ],
        [
         "2",
         "B096MSW6CT",
         "Sounce Fast Phone Charging Cable & Data Sync USB Cable Compatible for iPhone 13, 12,11, X, 8, 7, 6, 5, iPad Air, Pro, Mini & iOS Devices",
         "Computers&Accessories|Accessories&Peripherals|Cables&Accessories|Cables|USBCables",
         "199.0",
         "1.899",
         "90",
         "3.9",
         "7.928",
         "【 Fast Charger& Data Sync】-With built-in safety proctections and four-core copper wires promote maximum signal quality and strength and enhance charging & data transfer speed with up to 480 mb/s transferring speed.|【 Compatibility】-Compatible with iPhone 13, 12,11, X, 8, 7, 6, 5, iPad Air, Pro, Mini & iOS devices.|【 Sturdy & Durable】-The jacket and enforced connector made of TPE and premium copper, are resistant to repeatedly bending and coiling.|【 Ultra High Quality】: According to the experimental results, the fishbone design can accept at least 20,000 bending and insertion tests for extra protection and durability. Upgraded 3D aluminum connector and exclusive laser welding technology, which to ensure the metal part won't break and also have a tighter connection which fits well even with a protective case on and will never loose connection.|【 Good After Sales Service】-Our friendly and reliable customer service will respond to you within 24 hours ! you can purchase with confidence,and every sale includes a 365-day worry-free Service to prove the importance we set on quality.",
         "AGU3BBQ2V2DDAMOAKGFAWDDQ6QHA,AESFLDV2PT363T2AQLWQOWZ4N3OA,AHTPQRIMGUD4BYR5YIHBH3CCGEFQ,AEUVWXYP5LT7PZLLZENEO2NODPBQ,AHC7MPW55DOO6WNCOQVA2VHOD26A,AFDI6FRPFBTNBG7BAEB7JDJSMKDQ,AFQKCEEEKXCOHTDG4WUN3XPPHJQQ,AHKUUFNMBZIDLSSPA4FEHIO2EC7Q",
         "Kunal,Himanshu,viswanath,sai niharka,saqib malik,Aashiq,Ramu Challa,Sanjay gupta",
         "R3J3EQQ9TZI5ZJ,R3E7WBGK7ID0KV,RWU79XKQ6I1QF,R25X4TBMPY91LX,R27OK7G99VK0TR,R207CYDCHJJTCJ,R3PCU8XMU173BT,R1IMONDOWRNU5V",
         "Good speed for earlier versions,Good Product,Working good,Good for the price,Good,Worth for money,Working nice,it's a really nice product",
         "Not quite durable and sturdy,https://m.media-amazon.com/images/W/WEBP_402378-T1/images/I/71rIggrbUCL._SY88.jpg,Working good,https://m.media-amazon.com/images/W/WEBP_402378-T1/images/I/61bKp9YO6wL._SY88.jpg,Product,Very nice product,Working well,It's a really nice product",
         "https://m.media-amazon.com/images/W/WEBP_402378-T1/images/I/31IvNJZnmdL._SY445_SX342_QL70_FMwebp_.jpg",
         "https://www.amazon.in/Sounce-iPhone-Charging-Compatible-Devices/dp/B096MSW6CT/ref=sr_1_3?qid=1672909124&s=electronics&sr=1-3"
        ],
        [
         "3",
         "B08HDJ86NZ",
         "boAt Deuce USB 300 2 in 1 Type-C & Micro USB Stress Resistant, Tangle-Free, Sturdy Cable with 3A Fast Charging & 480mbps Data Transmission, 10000+ Bends Lifespan and Extended 1.5m Length(Martian Red)",
         "Computers&Accessories|Accessories&Peripherals|Cables&Accessories|Cables|USBCables",
         "329.0",
         "699.0",
         "53",
         "4.2",
         "94.363",
         "The boAt Deuce USB 300 2 in 1 cable is compatible with smartphones, tablets, PC peripherals, Bluetooth speakers, power banks and all other devices with Type-C as well as Micro USB port|It ensures 3A fast charging and data transmissions with rapid sync at 480 mbps|The premium Nylon braided skin makes it sturdy and invincible against external damage|Its Aluminium alloy shell housing makes it last longer with 10000+ Bends Lifespan with extended frame protection for strain relief|The resilient and flexible design offers a tangle free experience seamlessly|Deuce USB 300 cable offers a perfect 1.5 meters in length for smooth & hassle-free user experience|2 years warranty from the date of purchase",
         "AEWAZDZZJLQUYVOVGBEUKSLXHQ5A,AG5HTSFRRE6NL3M5SGCUQBP7YSCA,AH725ST5NW2Y4JZPKUNTIJCUK2BA,AHV3TXIFCJPMS4D5JATCEUR266MQ,AGWIGDEMFIIUAOXYY2QATNBSUGHA,AFSTSLQUV4EVEXWKBOLEFHL2H5YQ,AGAKDNBHY2FKX7I4ACRGILU7QL7A,AFNWJUWJRHCC6HN52KMG5AKZY37Q",
         "Omkar dhale,JD,HEMALATHA,Ajwadh a.,amar singh chouhan,Ravi Siddan,Himanshu Goel,Udaykumar",
         "R3EEUZKKK9J36I,R3HJVYCLYOY554,REDECAZ7AMPQC,R1CLH2ULIVG5U3,R2DMKIBGFKBD6R,RC89B5IAJUTR5,R3B3DDON5FH8DS,R13WAEJDI5RS36",
         "Good product,Good one,Nice,Really nice product,Very first time change,Good,Fine product but could be better,Very nice it's charging like jet",
         "Good product,long wire,Charges good,Nice,I bought this cable for Rs.339 worthy product for this price, i tested it in various charger adapters 33w and 18w it supports fast charging as well.,Good,Ok,I had got this at good price on sale on Amazon and product is useful with warranty but for warranty you need to go very far not practical for such a cost and mine micro to type c connector stopped working after few days only.,I like this product",
         "https://m.media-amazon.com/images/I/41V5FtEWPkL._SX300_SY300_QL70_FMwebp_.jpg",
         "https://www.amazon.in/Deuce-300-Resistant-Tangle-Free-Transmission/dp/B08HDJ86NZ/ref=sr_1_4?qid=1672909124&s=electronics&sr=1-4"
        ],
        [
         "4",
         "B08CF3B7N1",
         "Portronics Konnect L 1.2M Fast Charging 3A 8 Pin USB Cable with Charge & Sync Function for iPhone, iPad (Grey)",
         "Computers&Accessories|Accessories&Peripherals|Cables&Accessories|Cables|USBCables",
         "154.0",
         "399.0",
         "61",
         "4.2",
         "16.905",
         "[CHARGE & SYNC FUNCTION]- This cable comes with charging & Data sync function|[HIGH QUALITY MATERIAL]- TPE + Nylon Material to make sure that the life of the cable is enhanced significantly|[LONG CORD]- The Cable is extra thick 1.2 meter long, optimized for an easy use for your comfort at home or office|[MORE DURABLE]-This cable is unique interms of design and multi-use and is positioned to provide the best comfort and performance while using|[UNIVERSAL COMPATIBILITY]- Compatible with all devices like iPhone XS, X, XR, 8, 7, 6S, 6, 5S, iPad Pro, iPad mini and iPad Air",
         "AE3Q6KSUK5P75D5HFYHCRAOLODSA,AFUGIFH5ZAFXRDSZHM4QB2KPKFUQ,AFK4NJOLFSJGWLOJIUIAROJF6YVA,AFUOTYRFUXVPEBGIXVZZ7DR3CZUA,AFDLRSXKDZ6U3U3KD46SQLFGZQRA,AH5VLM66SIK7J3IRG4NY7XVOQ55A,AE3MQNNHHLUHXURL5S7IAR7JTGNQ,AFSEOFZY67MYC7UAJU264Z5NFTLA",
         "rahuls6099,Swasat Borah,Ajay Wadke,Pranali,RVK,Bhargav,Durai Vignesh,Amazon Customer",
         "R1BP4L2HH9TFUP,R16PVJEXKV6QZS,R2UPDB81N66T4P,R3KK4GT934ST3I,RCFHMWUSBIJO,RDO7DACXMAJ84,R3A6MEZL3LY66Z,R1ESIEKPGAYA29",
         "As good as original,Decent,Good one for secondary use,Best quality,GOOD,Amazing product at a mind blowing price!,Nice Quality,Good product",
         "Bought this instead of original apple, does the work for 150rs, not as fast as apple charger but its a good option if you want cheap and good product, bought it for iPad pro 10.5 and it's working flawlessly, build quality is ok, its not like i am gonna hang my clothes on it and i want a very strong cable, even a braided cable stop working after a year, i have used both Anker and Apple store strong braided cable they all stop working after a year so please don't buy high end cables just for that instead choose a this one and even if it's stops working withing a year you only loose 150rs compares to 2000rs.UPDATE------------------------------------pin has stopped charging from one side, now i have to slip the pin to charge from other side, but i will update and let know for how long does it work,,It’s good. Not sure about durability as the pin area feels a bit fragile,Does not support apple carplaySo was little disappointed about thatOther than that cable is made up of very good quality,Best to buy,100% NOT FATHFUL,Writing this review post 10 months and 3 orders of the same product.Honestly Portronics Konnect L lightning cable works like magic with the original Apple charging brick.Seeing the price of the cable I initially hesitated buying as it was as low as ₹99/- with the offers and so I wasn’t sure if it would work well with my iPhone 12 or whether it would impact my iPhone’s battery health because all the other lightning cable brands were costing over ₹350/- like Wayona, Amazon Basics, etc.Earlier I was using Wayona Brand lightning cable with eventually frayed and stopped working.Charging Speed:Charges my iPhone fast enough almost similar compared to the original cable level when used with 12W Original Apple power adapter.Quality and Durability:Great quality braided cable and doesn’t tangle easily and can withstand day-to-day usage.L-Shaped pin:This is very innovative by Portronics and it makes sure the cable doesn’t get damaged even if used while charging.CarPlay and Data Sync:Works smoothly with CarPlay and syncs data effortlessly.PS: I have used this cable only with the Original Apple Charging Brick and extremely satisfied with its performance.,Better than I expect the product I like that Quality and I plan to buy same type cable come with usb C to Lighting cable for emergency purpose that much I love this cable. Buy for this cable only emergency uses only since Good one,Good product and value for money",
         "https://m.media-amazon.com/images/W/WEBP_402378-T2/images/I/31VzNhhqifL._SX300_SY300_QL70_FMwebp_.jpg",
         "https://www.amazon.in/Portronics-Konnect-POR-1080-Charging-Function/dp/B08CF3B7N1/ref=sr_1_5?qid=1672909124&s=electronics&sr=1-5"
        ]
       ],
       "shape": {
        "columns": 16,
        "rows": 5
       }
      },
      "text/html": [
       "<div>\n",
       "<style scoped>\n",
       "    .dataframe tbody tr th:only-of-type {\n",
       "        vertical-align: middle;\n",
       "    }\n",
       "\n",
       "    .dataframe tbody tr th {\n",
       "        vertical-align: top;\n",
       "    }\n",
       "\n",
       "    .dataframe thead th {\n",
       "        text-align: right;\n",
       "    }\n",
       "</style>\n",
       "<table border=\"1\" class=\"dataframe\">\n",
       "  <thead>\n",
       "    <tr style=\"text-align: right;\">\n",
       "      <th></th>\n",
       "      <th>product_id</th>\n",
       "      <th>product_name</th>\n",
       "      <th>category</th>\n",
       "      <th>discounted_price</th>\n",
       "      <th>actual_price</th>\n",
       "      <th>discount_percentage</th>\n",
       "      <th>rating</th>\n",
       "      <th>rating_count</th>\n",
       "      <th>about_product</th>\n",
       "      <th>user_id</th>\n",
       "      <th>user_name</th>\n",
       "      <th>review_id</th>\n",
       "      <th>review_title</th>\n",
       "      <th>review_content</th>\n",
       "      <th>img_link</th>\n",
       "      <th>product_link</th>\n",
       "    </tr>\n",
       "  </thead>\n",
       "  <tbody>\n",
       "    <tr>\n",
       "      <th>0</th>\n",
       "      <td>B07JW9H4J1</td>\n",
       "      <td>Wayona Nylon Braided USB to Lightning Fast Cha...</td>\n",
       "      <td>Computers&amp;Accessories|Accessories&amp;Peripherals|...</td>\n",
       "      <td>399.0</td>\n",
       "      <td>1.099</td>\n",
       "      <td>64</td>\n",
       "      <td>4.2</td>\n",
       "      <td>24.269</td>\n",
       "      <td>High Compatibility : Compatible With iPhone 12...</td>\n",
       "      <td>AG3D6O4STAQKAY2UVGEUV46KN35Q,AHMY5CWJMMK5BJRBB...</td>\n",
       "      <td>Manav,Adarsh gupta,Sundeep,S.Sayeed Ahmed,jasp...</td>\n",
       "      <td>R3HXWT0LRP0NMF,R2AJM3LFTLZHFO,R6AQJGUP6P86,R1K...</td>\n",
       "      <td>Satisfied,Charging is really fast,Value for mo...</td>\n",
       "      <td>Looks durable Charging is fine tooNo complains...</td>\n",
       "      <td>https://m.media-amazon.com/images/W/WEBP_40237...</td>\n",
       "      <td>https://www.amazon.in/Wayona-Braided-WN3LG1-Sy...</td>\n",
       "    </tr>\n",
       "    <tr>\n",
       "      <th>1</th>\n",
       "      <td>B098NS6PVG</td>\n",
       "      <td>Ambrane Unbreakable 60W / 3A Fast Charging 1.5...</td>\n",
       "      <td>Computers&amp;Accessories|Accessories&amp;Peripherals|...</td>\n",
       "      <td>199.0</td>\n",
       "      <td>349.000</td>\n",
       "      <td>43</td>\n",
       "      <td>4.0</td>\n",
       "      <td>43.994</td>\n",
       "      <td>Compatible with all Type C enabled devices, be...</td>\n",
       "      <td>AECPFYFQVRUWC3KGNLJIOREFP5LQ,AGYYVPDD7YG7FYNBX...</td>\n",
       "      <td>ArdKn,Nirbhay kumar,Sagar Viswanathan,Asp,Plac...</td>\n",
       "      <td>RGIQEG07R9HS2,R1SMWZQ86XIN8U,R2J3Y1WL29GWDE,RY...</td>\n",
       "      <td>A Good Braided Cable for Your Type C Device,Go...</td>\n",
       "      <td>I ordered this cable to connect my phone to An...</td>\n",
       "      <td>https://m.media-amazon.com/images/W/WEBP_40237...</td>\n",
       "      <td>https://www.amazon.in/Ambrane-Unbreakable-Char...</td>\n",
       "    </tr>\n",
       "    <tr>\n",
       "      <th>2</th>\n",
       "      <td>B096MSW6CT</td>\n",
       "      <td>Sounce Fast Phone Charging Cable &amp; Data Sync U...</td>\n",
       "      <td>Computers&amp;Accessories|Accessories&amp;Peripherals|...</td>\n",
       "      <td>199.0</td>\n",
       "      <td>1.899</td>\n",
       "      <td>90</td>\n",
       "      <td>3.9</td>\n",
       "      <td>7.928</td>\n",
       "      <td>【 Fast Charger&amp; Data Sync】-With built-in safet...</td>\n",
       "      <td>AGU3BBQ2V2DDAMOAKGFAWDDQ6QHA,AESFLDV2PT363T2AQ...</td>\n",
       "      <td>Kunal,Himanshu,viswanath,sai niharka,saqib mal...</td>\n",
       "      <td>R3J3EQQ9TZI5ZJ,R3E7WBGK7ID0KV,RWU79XKQ6I1QF,R2...</td>\n",
       "      <td>Good speed for earlier versions,Good Product,W...</td>\n",
       "      <td>Not quite durable and sturdy,https://m.media-a...</td>\n",
       "      <td>https://m.media-amazon.com/images/W/WEBP_40237...</td>\n",
       "      <td>https://www.amazon.in/Sounce-iPhone-Charging-C...</td>\n",
       "    </tr>\n",
       "    <tr>\n",
       "      <th>3</th>\n",
       "      <td>B08HDJ86NZ</td>\n",
       "      <td>boAt Deuce USB 300 2 in 1 Type-C &amp; Micro USB S...</td>\n",
       "      <td>Computers&amp;Accessories|Accessories&amp;Peripherals|...</td>\n",
       "      <td>329.0</td>\n",
       "      <td>699.000</td>\n",
       "      <td>53</td>\n",
       "      <td>4.2</td>\n",
       "      <td>94.363</td>\n",
       "      <td>The boAt Deuce USB 300 2 in 1 cable is compati...</td>\n",
       "      <td>AEWAZDZZJLQUYVOVGBEUKSLXHQ5A,AG5HTSFRRE6NL3M5S...</td>\n",
       "      <td>Omkar dhale,JD,HEMALATHA,Ajwadh a.,amar singh ...</td>\n",
       "      <td>R3EEUZKKK9J36I,R3HJVYCLYOY554,REDECAZ7AMPQC,R1...</td>\n",
       "      <td>Good product,Good one,Nice,Really nice product...</td>\n",
       "      <td>Good product,long wire,Charges good,Nice,I bou...</td>\n",
       "      <td>https://m.media-amazon.com/images/I/41V5FtEWPk...</td>\n",
       "      <td>https://www.amazon.in/Deuce-300-Resistant-Tang...</td>\n",
       "    </tr>\n",
       "    <tr>\n",
       "      <th>4</th>\n",
       "      <td>B08CF3B7N1</td>\n",
       "      <td>Portronics Konnect L 1.2M Fast Charging 3A 8 P...</td>\n",
       "      <td>Computers&amp;Accessories|Accessories&amp;Peripherals|...</td>\n",
       "      <td>154.0</td>\n",
       "      <td>399.000</td>\n",
       "      <td>61</td>\n",
       "      <td>4.2</td>\n",
       "      <td>16.905</td>\n",
       "      <td>[CHARGE &amp; SYNC FUNCTION]- This cable comes wit...</td>\n",
       "      <td>AE3Q6KSUK5P75D5HFYHCRAOLODSA,AFUGIFH5ZAFXRDSZH...</td>\n",
       "      <td>rahuls6099,Swasat Borah,Ajay Wadke,Pranali,RVK...</td>\n",
       "      <td>R1BP4L2HH9TFUP,R16PVJEXKV6QZS,R2UPDB81N66T4P,R...</td>\n",
       "      <td>As good as original,Decent,Good one for second...</td>\n",
       "      <td>Bought this instead of original apple, does th...</td>\n",
       "      <td>https://m.media-amazon.com/images/W/WEBP_40237...</td>\n",
       "      <td>https://www.amazon.in/Portronics-Konnect-POR-1...</td>\n",
       "    </tr>\n",
       "  </tbody>\n",
       "</table>\n",
       "</div>"
      ],
      "text/plain": [
       "   product_id                                       product_name  \\\n",
       "0  B07JW9H4J1  Wayona Nylon Braided USB to Lightning Fast Cha...   \n",
       "1  B098NS6PVG  Ambrane Unbreakable 60W / 3A Fast Charging 1.5...   \n",
       "2  B096MSW6CT  Sounce Fast Phone Charging Cable & Data Sync U...   \n",
       "3  B08HDJ86NZ  boAt Deuce USB 300 2 in 1 Type-C & Micro USB S...   \n",
       "4  B08CF3B7N1  Portronics Konnect L 1.2M Fast Charging 3A 8 P...   \n",
       "\n",
       "                                            category  discounted_price  \\\n",
       "0  Computers&Accessories|Accessories&Peripherals|...             399.0   \n",
       "1  Computers&Accessories|Accessories&Peripherals|...             199.0   \n",
       "2  Computers&Accessories|Accessories&Peripherals|...             199.0   \n",
       "3  Computers&Accessories|Accessories&Peripherals|...             329.0   \n",
       "4  Computers&Accessories|Accessories&Peripherals|...             154.0   \n",
       "\n",
       "   actual_price  discount_percentage  rating  rating_count  \\\n",
       "0         1.099                   64     4.2        24.269   \n",
       "1       349.000                   43     4.0        43.994   \n",
       "2         1.899                   90     3.9         7.928   \n",
       "3       699.000                   53     4.2        94.363   \n",
       "4       399.000                   61     4.2        16.905   \n",
       "\n",
       "                                       about_product  \\\n",
       "0  High Compatibility : Compatible With iPhone 12...   \n",
       "1  Compatible with all Type C enabled devices, be...   \n",
       "2  【 Fast Charger& Data Sync】-With built-in safet...   \n",
       "3  The boAt Deuce USB 300 2 in 1 cable is compati...   \n",
       "4  [CHARGE & SYNC FUNCTION]- This cable comes wit...   \n",
       "\n",
       "                                             user_id  \\\n",
       "0  AG3D6O4STAQKAY2UVGEUV46KN35Q,AHMY5CWJMMK5BJRBB...   \n",
       "1  AECPFYFQVRUWC3KGNLJIOREFP5LQ,AGYYVPDD7YG7FYNBX...   \n",
       "2  AGU3BBQ2V2DDAMOAKGFAWDDQ6QHA,AESFLDV2PT363T2AQ...   \n",
       "3  AEWAZDZZJLQUYVOVGBEUKSLXHQ5A,AG5HTSFRRE6NL3M5S...   \n",
       "4  AE3Q6KSUK5P75D5HFYHCRAOLODSA,AFUGIFH5ZAFXRDSZH...   \n",
       "\n",
       "                                           user_name  \\\n",
       "0  Manav,Adarsh gupta,Sundeep,S.Sayeed Ahmed,jasp...   \n",
       "1  ArdKn,Nirbhay kumar,Sagar Viswanathan,Asp,Plac...   \n",
       "2  Kunal,Himanshu,viswanath,sai niharka,saqib mal...   \n",
       "3  Omkar dhale,JD,HEMALATHA,Ajwadh a.,amar singh ...   \n",
       "4  rahuls6099,Swasat Borah,Ajay Wadke,Pranali,RVK...   \n",
       "\n",
       "                                           review_id  \\\n",
       "0  R3HXWT0LRP0NMF,R2AJM3LFTLZHFO,R6AQJGUP6P86,R1K...   \n",
       "1  RGIQEG07R9HS2,R1SMWZQ86XIN8U,R2J3Y1WL29GWDE,RY...   \n",
       "2  R3J3EQQ9TZI5ZJ,R3E7WBGK7ID0KV,RWU79XKQ6I1QF,R2...   \n",
       "3  R3EEUZKKK9J36I,R3HJVYCLYOY554,REDECAZ7AMPQC,R1...   \n",
       "4  R1BP4L2HH9TFUP,R16PVJEXKV6QZS,R2UPDB81N66T4P,R...   \n",
       "\n",
       "                                        review_title  \\\n",
       "0  Satisfied,Charging is really fast,Value for mo...   \n",
       "1  A Good Braided Cable for Your Type C Device,Go...   \n",
       "2  Good speed for earlier versions,Good Product,W...   \n",
       "3  Good product,Good one,Nice,Really nice product...   \n",
       "4  As good as original,Decent,Good one for second...   \n",
       "\n",
       "                                      review_content  \\\n",
       "0  Looks durable Charging is fine tooNo complains...   \n",
       "1  I ordered this cable to connect my phone to An...   \n",
       "2  Not quite durable and sturdy,https://m.media-a...   \n",
       "3  Good product,long wire,Charges good,Nice,I bou...   \n",
       "4  Bought this instead of original apple, does th...   \n",
       "\n",
       "                                            img_link  \\\n",
       "0  https://m.media-amazon.com/images/W/WEBP_40237...   \n",
       "1  https://m.media-amazon.com/images/W/WEBP_40237...   \n",
       "2  https://m.media-amazon.com/images/W/WEBP_40237...   \n",
       "3  https://m.media-amazon.com/images/I/41V5FtEWPk...   \n",
       "4  https://m.media-amazon.com/images/W/WEBP_40237...   \n",
       "\n",
       "                                        product_link  \n",
       "0  https://www.amazon.in/Wayona-Braided-WN3LG1-Sy...  \n",
       "1  https://www.amazon.in/Ambrane-Unbreakable-Char...  \n",
       "2  https://www.amazon.in/Sounce-iPhone-Charging-C...  \n",
       "3  https://www.amazon.in/Deuce-300-Resistant-Tang...  \n",
       "4  https://www.amazon.in/Portronics-Konnect-POR-1...  "
      ]
     },
     "execution_count": 309,
     "metadata": {},
     "output_type": "execute_result"
    }
   ],
   "source": [
    "df_sales.head()"
   ]
  },
  {
   "cell_type": "code",
   "execution_count": 310,
   "id": "478ebcc1",
   "metadata": {},
   "outputs": [
    {
     "name": "stdout",
     "output_type": "stream",
     "text": [
      "<class 'pandas.core.frame.DataFrame'>\n",
      "RangeIndex: 1465 entries, 0 to 1464\n",
      "Data columns (total 16 columns):\n",
      " #   Column               Non-Null Count  Dtype  \n",
      "---  ------               --------------  -----  \n",
      " 0   product_id           1465 non-null   object \n",
      " 1   product_name         1465 non-null   object \n",
      " 2   category             1465 non-null   object \n",
      " 3   discounted_price     1460 non-null   float64\n",
      " 4   actual_price         1463 non-null   float64\n",
      " 5   discount_percentage  1465 non-null   int64  \n",
      " 6   rating               1464 non-null   float64\n",
      " 7   rating_count         1418 non-null   float64\n",
      " 8   about_product        1465 non-null   object \n",
      " 9   user_id              1465 non-null   object \n",
      " 10  user_name            1465 non-null   object \n",
      " 11  review_id            1465 non-null   object \n",
      " 12  review_title         1465 non-null   object \n",
      " 13  review_content       1465 non-null   object \n",
      " 14  img_link             1465 non-null   object \n",
      " 15  product_link         1465 non-null   object \n",
      "dtypes: float64(4), int64(1), object(11)\n",
      "memory usage: 183.3+ KB\n"
     ]
    }
   ],
   "source": [
    "df_sales.info()"
   ]
  },
  {
   "cell_type": "markdown",
   "id": "77f6d005",
   "metadata": {},
   "source": [
    "La colonne **\"category\"** contient la catégorie principale du produit suivie des sous-catégories du produit. Ces catégories sont séparées par des **\"|\"**. Nous allons donc **séparer** la **catégorie principale** du produit de ses **les sous-catégories**"
   ]
  },
  {
   "cell_type": "markdown",
   "id": "b3e37abb",
   "metadata": {},
   "source": [
    "Certains produits contiennent jusqu'à **6 catégories**"
   ]
  },
  {
   "cell_type": "code",
   "execution_count": 311,
   "id": "67564739",
   "metadata": {},
   "outputs": [
    {
     "data": {
      "application/vnd.microsoft.datawrangler.viewer.v0+json": {
       "columns": [
        {
         "name": "index",
         "rawType": "int64",
         "type": "integer"
        },
        {
         "name": "0",
         "rawType": "object",
         "type": "string"
        },
        {
         "name": "1",
         "rawType": "object",
         "type": "string"
        },
        {
         "name": "2",
         "rawType": "object",
         "type": "unknown"
        },
        {
         "name": "3",
         "rawType": "object",
         "type": "unknown"
        },
        {
         "name": "4",
         "rawType": "object",
         "type": "unknown"
        },
        {
         "name": "5",
         "rawType": "object",
         "type": "unknown"
        },
        {
         "name": "6",
         "rawType": "object",
         "type": "unknown"
        }
       ],
       "conversionMethod": "pd.DataFrame",
       "ref": "29f55096-9474-4886-84f2-7fca30dbbe75",
       "rows": [
        [
         "0",
         "Computers&Accessories",
         "Accessories&Peripherals",
         "Cables&Accessories",
         "Cables",
         "USBCables",
         null,
         null
        ],
        [
         "1",
         "Computers&Accessories",
         "Accessories&Peripherals",
         "Cables&Accessories",
         "Cables",
         "USBCables",
         null,
         null
        ],
        [
         "2",
         "Computers&Accessories",
         "Accessories&Peripherals",
         "Cables&Accessories",
         "Cables",
         "USBCables",
         null,
         null
        ],
        [
         "3",
         "Computers&Accessories",
         "Accessories&Peripherals",
         "Cables&Accessories",
         "Cables",
         "USBCables",
         null,
         null
        ],
        [
         "4",
         "Computers&Accessories",
         "Accessories&Peripherals",
         "Cables&Accessories",
         "Cables",
         "USBCables",
         null,
         null
        ],
        [
         "5",
         "Computers&Accessories",
         "Accessories&Peripherals",
         "Cables&Accessories",
         "Cables",
         "USBCables",
         null,
         null
        ],
        [
         "6",
         "Computers&Accessories",
         "Accessories&Peripherals",
         "Cables&Accessories",
         "Cables",
         "USBCables",
         null,
         null
        ],
        [
         "7",
         "Computers&Accessories",
         "Accessories&Peripherals",
         "Cables&Accessories",
         "Cables",
         "USBCables",
         null,
         null
        ],
        [
         "8",
         "Computers&Accessories",
         "NetworkingDevices",
         "NetworkAdapters",
         "WirelessUSBAdapters",
         null,
         null,
         null
        ],
        [
         "9",
         "Computers&Accessories",
         "Accessories&Peripherals",
         "Cables&Accessories",
         "Cables",
         "USBCables",
         null,
         null
        ],
        [
         "10",
         "Computers&Accessories",
         "Accessories&Peripherals",
         "Cables&Accessories",
         "Cables",
         "USBCables",
         null,
         null
        ],
        [
         "11",
         "Computers&Accessories",
         "Accessories&Peripherals",
         "Cables&Accessories",
         "Cables",
         "USBCables",
         null,
         null
        ],
        [
         "12",
         "Electronics",
         "HomeTheater,TV&Video",
         "Accessories",
         "Cables",
         "HDMICables",
         null,
         null
        ],
        [
         "13",
         "Computers&Accessories",
         "Accessories&Peripherals",
         "Cables&Accessories",
         "Cables",
         "USBCables",
         null,
         null
        ],
        [
         "14",
         "Computers&Accessories",
         "Accessories&Peripherals",
         "Cables&Accessories",
         "Cables",
         "USBCables",
         null,
         null
        ],
        [
         "15",
         "Computers&Accessories",
         "Accessories&Peripherals",
         "Cables&Accessories",
         "Cables",
         "USBCables",
         null,
         null
        ],
        [
         "16",
         "Electronics",
         "HomeTheater,TV&Video",
         "Televisions",
         "SmartTelevisions",
         null,
         null,
         null
        ],
        [
         "17",
         "Computers&Accessories",
         "Accessories&Peripherals",
         "Cables&Accessories",
         "Cables",
         "USBCables",
         null,
         null
        ],
        [
         "18",
         "Computers&Accessories",
         "Accessories&Peripherals",
         "Cables&Accessories",
         "Cables",
         "USBCables",
         null,
         null
        ],
        [
         "19",
         "Electronics",
         "HomeTheater,TV&Video",
         "Televisions",
         "SmartTelevisions",
         null,
         null,
         null
        ],
        [
         "20",
         "Computers&Accessories",
         "Accessories&Peripherals",
         "Cables&Accessories",
         "Cables",
         "USBCables",
         null,
         null
        ],
        [
         "21",
         "Electronics",
         "HomeTheater,TV&Video",
         "Accessories",
         "Cables",
         "HDMICables",
         null,
         null
        ],
        [
         "22",
         "Electronics",
         "HomeTheater,TV&Video",
         "Televisions",
         "SmartTelevisions",
         null,
         null,
         null
        ],
        [
         "23",
         "Computers&Accessories",
         "Accessories&Peripherals",
         "Cables&Accessories",
         "Cables",
         "USBCables",
         null,
         null
        ],
        [
         "24",
         "Electronics",
         "HomeTheater,TV&Video",
         "Televisions",
         "SmartTelevisions",
         null,
         null,
         null
        ],
        [
         "25",
         "Electronics",
         "HomeTheater,TV&Video",
         "Accessories",
         "Cables",
         "HDMICables",
         null,
         null
        ],
        [
         "26",
         "Electronics",
         "HomeTheater,TV&Video",
         "Televisions",
         "SmartTelevisions",
         null,
         null,
         null
        ],
        [
         "27",
         "Computers&Accessories",
         "Accessories&Peripherals",
         "Cables&Accessories",
         "Cables",
         "USBCables",
         null,
         null
        ],
        [
         "28",
         "Computers&Accessories",
         "Accessories&Peripherals",
         "Cables&Accessories",
         "Cables",
         "USBCables",
         null,
         null
        ],
        [
         "29",
         "Computers&Accessories",
         "Accessories&Peripherals",
         "Cables&Accessories",
         "Cables",
         "USBCables",
         null,
         null
        ],
        [
         "30",
         "Computers&Accessories",
         "Accessories&Peripherals",
         "Cables&Accessories",
         "Cables",
         "USBCables",
         null,
         null
        ],
        [
         "31",
         "Computers&Accessories",
         "Accessories&Peripherals",
         "Cables&Accessories",
         "Cables",
         "USBCables",
         null,
         null
        ],
        [
         "32",
         "Computers&Accessories",
         "Accessories&Peripherals",
         "Cables&Accessories",
         "Cables",
         "USBCables",
         null,
         null
        ],
        [
         "33",
         "Computers&Accessories",
         "Accessories&Peripherals",
         "Cables&Accessories",
         "Cables",
         "USBCables",
         null,
         null
        ],
        [
         "34",
         "Computers&Accessories",
         "Accessories&Peripherals",
         "Cables&Accessories",
         "Cables",
         "USBCables",
         null,
         null
        ],
        [
         "35",
         "Computers&Accessories",
         "Accessories&Peripherals",
         "Cables&Accessories",
         "Cables",
         "USBCables",
         null,
         null
        ],
        [
         "36",
         "Computers&Accessories",
         "Accessories&Peripherals",
         "Cables&Accessories",
         "Cables",
         "USBCables",
         null,
         null
        ],
        [
         "37",
         "Computers&Accessories",
         "Accessories&Peripherals",
         "Cables&Accessories",
         "Cables",
         "USBCables",
         null,
         null
        ],
        [
         "38",
         "Electronics",
         "HomeTheater,TV&Video",
         "Televisions",
         "SmartTelevisions",
         null,
         null,
         null
        ],
        [
         "39",
         "Computers&Accessories",
         "Accessories&Peripherals",
         "Cables&Accessories",
         "Cables",
         "USBCables",
         null,
         null
        ],
        [
         "40",
         "Computers&Accessories",
         "Accessories&Peripherals",
         "Cables&Accessories",
         "Cables",
         "USBCables",
         null,
         null
        ],
        [
         "41",
         "Electronics",
         "HomeTheater,TV&Video",
         "Televisions",
         "SmartTelevisions",
         null,
         null,
         null
        ],
        [
         "42",
         "Computers&Accessories",
         "Accessories&Peripherals",
         "Cables&Accessories",
         "Cables",
         "USBCables",
         null,
         null
        ],
        [
         "43",
         "Computers&Accessories",
         "NetworkingDevices",
         "NetworkAdapters",
         "WirelessUSBAdapters",
         null,
         null,
         null
        ],
        [
         "44",
         "Computers&Accessories",
         "Accessories&Peripherals",
         "Cables&Accessories",
         "Cables",
         "USBCables",
         null,
         null
        ],
        [
         "45",
         "Computers&Accessories",
         "Accessories&Peripherals",
         "Cables&Accessories",
         "Cables",
         "USBCables",
         null,
         null
        ],
        [
         "46",
         "Computers&Accessories",
         "NetworkingDevices",
         "NetworkAdapters",
         "WirelessUSBAdapters",
         null,
         null,
         null
        ],
        [
         "47",
         "Electronics",
         "HomeTheater,TV&Video",
         "Accessories",
         "Cables",
         "HDMICables",
         null,
         null
        ],
        [
         "48",
         "Electronics",
         "HomeTheater,TV&Video",
         "Accessories",
         "RemoteControls",
         null,
         null,
         null
        ],
        [
         "49",
         "Computers&Accessories",
         "Accessories&Peripherals",
         "Cables&Accessories",
         "Cables",
         "USBCables",
         null,
         null
        ]
       ],
       "shape": {
        "columns": 7,
        "rows": 1465
       }
      },
      "text/html": [
       "<div>\n",
       "<style scoped>\n",
       "    .dataframe tbody tr th:only-of-type {\n",
       "        vertical-align: middle;\n",
       "    }\n",
       "\n",
       "    .dataframe tbody tr th {\n",
       "        vertical-align: top;\n",
       "    }\n",
       "\n",
       "    .dataframe thead th {\n",
       "        text-align: right;\n",
       "    }\n",
       "</style>\n",
       "<table border=\"1\" class=\"dataframe\">\n",
       "  <thead>\n",
       "    <tr style=\"text-align: right;\">\n",
       "      <th></th>\n",
       "      <th>0</th>\n",
       "      <th>1</th>\n",
       "      <th>2</th>\n",
       "      <th>3</th>\n",
       "      <th>4</th>\n",
       "      <th>5</th>\n",
       "      <th>6</th>\n",
       "    </tr>\n",
       "  </thead>\n",
       "  <tbody>\n",
       "    <tr>\n",
       "      <th>0</th>\n",
       "      <td>Computers&amp;Accessories</td>\n",
       "      <td>Accessories&amp;Peripherals</td>\n",
       "      <td>Cables&amp;Accessories</td>\n",
       "      <td>Cables</td>\n",
       "      <td>USBCables</td>\n",
       "      <td>None</td>\n",
       "      <td>None</td>\n",
       "    </tr>\n",
       "    <tr>\n",
       "      <th>1</th>\n",
       "      <td>Computers&amp;Accessories</td>\n",
       "      <td>Accessories&amp;Peripherals</td>\n",
       "      <td>Cables&amp;Accessories</td>\n",
       "      <td>Cables</td>\n",
       "      <td>USBCables</td>\n",
       "      <td>None</td>\n",
       "      <td>None</td>\n",
       "    </tr>\n",
       "    <tr>\n",
       "      <th>2</th>\n",
       "      <td>Computers&amp;Accessories</td>\n",
       "      <td>Accessories&amp;Peripherals</td>\n",
       "      <td>Cables&amp;Accessories</td>\n",
       "      <td>Cables</td>\n",
       "      <td>USBCables</td>\n",
       "      <td>None</td>\n",
       "      <td>None</td>\n",
       "    </tr>\n",
       "    <tr>\n",
       "      <th>3</th>\n",
       "      <td>Computers&amp;Accessories</td>\n",
       "      <td>Accessories&amp;Peripherals</td>\n",
       "      <td>Cables&amp;Accessories</td>\n",
       "      <td>Cables</td>\n",
       "      <td>USBCables</td>\n",
       "      <td>None</td>\n",
       "      <td>None</td>\n",
       "    </tr>\n",
       "    <tr>\n",
       "      <th>4</th>\n",
       "      <td>Computers&amp;Accessories</td>\n",
       "      <td>Accessories&amp;Peripherals</td>\n",
       "      <td>Cables&amp;Accessories</td>\n",
       "      <td>Cables</td>\n",
       "      <td>USBCables</td>\n",
       "      <td>None</td>\n",
       "      <td>None</td>\n",
       "    </tr>\n",
       "    <tr>\n",
       "      <th>...</th>\n",
       "      <td>...</td>\n",
       "      <td>...</td>\n",
       "      <td>...</td>\n",
       "      <td>...</td>\n",
       "      <td>...</td>\n",
       "      <td>...</td>\n",
       "      <td>...</td>\n",
       "    </tr>\n",
       "    <tr>\n",
       "      <th>1460</th>\n",
       "      <td>Home&amp;Kitchen</td>\n",
       "      <td>Kitchen&amp;HomeAppliances</td>\n",
       "      <td>WaterPurifiers&amp;Accessories</td>\n",
       "      <td>WaterPurifierAccessories</td>\n",
       "      <td>None</td>\n",
       "      <td>None</td>\n",
       "      <td>None</td>\n",
       "    </tr>\n",
       "    <tr>\n",
       "      <th>1461</th>\n",
       "      <td>Home&amp;Kitchen</td>\n",
       "      <td>Kitchen&amp;HomeAppliances</td>\n",
       "      <td>SmallKitchenAppliances</td>\n",
       "      <td>Rice&amp;PastaCookers</td>\n",
       "      <td>None</td>\n",
       "      <td>None</td>\n",
       "      <td>None</td>\n",
       "    </tr>\n",
       "    <tr>\n",
       "      <th>1462</th>\n",
       "      <td>Home&amp;Kitchen</td>\n",
       "      <td>Heating,Cooling&amp;AirQuality</td>\n",
       "      <td>RoomHeaters</td>\n",
       "      <td>HeatConvectors</td>\n",
       "      <td>None</td>\n",
       "      <td>None</td>\n",
       "      <td>None</td>\n",
       "    </tr>\n",
       "    <tr>\n",
       "      <th>1463</th>\n",
       "      <td>Home&amp;Kitchen</td>\n",
       "      <td>Heating,Cooling&amp;AirQuality</td>\n",
       "      <td>Fans</td>\n",
       "      <td>ExhaustFans</td>\n",
       "      <td>None</td>\n",
       "      <td>None</td>\n",
       "      <td>None</td>\n",
       "    </tr>\n",
       "    <tr>\n",
       "      <th>1464</th>\n",
       "      <td>Home&amp;Kitchen</td>\n",
       "      <td>Kitchen&amp;HomeAppliances</td>\n",
       "      <td>SmallKitchenAppliances</td>\n",
       "      <td>SandwichMakers</td>\n",
       "      <td>None</td>\n",
       "      <td>None</td>\n",
       "      <td>None</td>\n",
       "    </tr>\n",
       "  </tbody>\n",
       "</table>\n",
       "<p>1465 rows × 7 columns</p>\n",
       "</div>"
      ],
      "text/plain": [
       "                          0                           1  \\\n",
       "0     Computers&Accessories     Accessories&Peripherals   \n",
       "1     Computers&Accessories     Accessories&Peripherals   \n",
       "2     Computers&Accessories     Accessories&Peripherals   \n",
       "3     Computers&Accessories     Accessories&Peripherals   \n",
       "4     Computers&Accessories     Accessories&Peripherals   \n",
       "...                     ...                         ...   \n",
       "1460           Home&Kitchen      Kitchen&HomeAppliances   \n",
       "1461           Home&Kitchen      Kitchen&HomeAppliances   \n",
       "1462           Home&Kitchen  Heating,Cooling&AirQuality   \n",
       "1463           Home&Kitchen  Heating,Cooling&AirQuality   \n",
       "1464           Home&Kitchen      Kitchen&HomeAppliances   \n",
       "\n",
       "                               2                         3          4     5  \\\n",
       "0             Cables&Accessories                    Cables  USBCables  None   \n",
       "1             Cables&Accessories                    Cables  USBCables  None   \n",
       "2             Cables&Accessories                    Cables  USBCables  None   \n",
       "3             Cables&Accessories                    Cables  USBCables  None   \n",
       "4             Cables&Accessories                    Cables  USBCables  None   \n",
       "...                          ...                       ...        ...   ...   \n",
       "1460  WaterPurifiers&Accessories  WaterPurifierAccessories       None  None   \n",
       "1461      SmallKitchenAppliances         Rice&PastaCookers       None  None   \n",
       "1462                 RoomHeaters            HeatConvectors       None  None   \n",
       "1463                        Fans               ExhaustFans       None  None   \n",
       "1464      SmallKitchenAppliances            SandwichMakers       None  None   \n",
       "\n",
       "         6  \n",
       "0     None  \n",
       "1     None  \n",
       "2     None  \n",
       "3     None  \n",
       "4     None  \n",
       "...    ...  \n",
       "1460  None  \n",
       "1461  None  \n",
       "1462  None  \n",
       "1463  None  \n",
       "1464  None  \n",
       "\n",
       "[1465 rows x 7 columns]"
      ]
     },
     "execution_count": 311,
     "metadata": {},
     "output_type": "execute_result"
    }
   ],
   "source": [
    "df_sales.category.str.split('|', expand=True)"
   ]
  },
  {
   "cell_type": "markdown",
   "id": "213e2334",
   "metadata": {},
   "source": [
    "Seules la **catégorie principale** et la **première sous-catégorie** ne comportent **pas de valeurs nulles**. Nous allons donc garder uniquement ces **deux catégories**."
   ]
  },
  {
   "cell_type": "code",
   "execution_count": 312,
   "id": "a8eafc23",
   "metadata": {},
   "outputs": [
    {
     "name": "stdout",
     "output_type": "stream",
     "text": [
      "<class 'pandas.core.frame.DataFrame'>\n",
      "RangeIndex: 1465 entries, 0 to 1464\n",
      "Data columns (total 7 columns):\n",
      " #   Column  Non-Null Count  Dtype \n",
      "---  ------  --------------  ----- \n",
      " 0   0       1465 non-null   object\n",
      " 1   1       1465 non-null   object\n",
      " 2   2       1457 non-null   object\n",
      " 3   3       1300 non-null   object\n",
      " 4   4       522 non-null    object\n",
      " 5   5       85 non-null     object\n",
      " 6   6       13 non-null     object\n",
      "dtypes: object(7)\n",
      "memory usage: 80.2+ KB\n"
     ]
    }
   ],
   "source": [
    "df_sales.category.str.split('|', expand=True).info()"
   ]
  },
  {
   "cell_type": "code",
   "execution_count": 313,
   "id": "cf49df39",
   "metadata": {},
   "outputs": [],
   "source": [
    "df_sales['main_category'] = df_sales.category.str.split('|', expand=True)[[0]]\n",
    "df_sales['sub_category'] = df_sales.category.str.split('|', expand=True)[[1]]"
   ]
  },
  {
   "cell_type": "code",
   "execution_count": 314,
   "id": "902d06f1",
   "metadata": {},
   "outputs": [
    {
     "data": {
      "application/vnd.microsoft.datawrangler.viewer.v0+json": {
       "columns": [
        {
         "name": "index",
         "rawType": "int64",
         "type": "integer"
        },
        {
         "name": "main_category",
         "rawType": "object",
         "type": "string"
        },
        {
         "name": "sub_category",
         "rawType": "object",
         "type": "string"
        }
       ],
       "conversionMethod": "pd.DataFrame",
       "ref": "86987a78-b155-410c-9a9e-32ddd78f0eee",
       "rows": [
        [
         "0",
         "Computers&Accessories",
         "Accessories&Peripherals"
        ],
        [
         "1",
         "Computers&Accessories",
         "Accessories&Peripherals"
        ],
        [
         "2",
         "Computers&Accessories",
         "Accessories&Peripherals"
        ],
        [
         "3",
         "Computers&Accessories",
         "Accessories&Peripherals"
        ],
        [
         "4",
         "Computers&Accessories",
         "Accessories&Peripherals"
        ],
        [
         "5",
         "Computers&Accessories",
         "Accessories&Peripherals"
        ],
        [
         "6",
         "Computers&Accessories",
         "Accessories&Peripherals"
        ],
        [
         "7",
         "Computers&Accessories",
         "Accessories&Peripherals"
        ],
        [
         "8",
         "Computers&Accessories",
         "NetworkingDevices"
        ],
        [
         "9",
         "Computers&Accessories",
         "Accessories&Peripherals"
        ],
        [
         "10",
         "Computers&Accessories",
         "Accessories&Peripherals"
        ],
        [
         "11",
         "Computers&Accessories",
         "Accessories&Peripherals"
        ],
        [
         "12",
         "Electronics",
         "HomeTheater,TV&Video"
        ],
        [
         "13",
         "Computers&Accessories",
         "Accessories&Peripherals"
        ],
        [
         "14",
         "Computers&Accessories",
         "Accessories&Peripherals"
        ],
        [
         "15",
         "Computers&Accessories",
         "Accessories&Peripherals"
        ],
        [
         "16",
         "Electronics",
         "HomeTheater,TV&Video"
        ],
        [
         "17",
         "Computers&Accessories",
         "Accessories&Peripherals"
        ],
        [
         "18",
         "Computers&Accessories",
         "Accessories&Peripherals"
        ],
        [
         "19",
         "Electronics",
         "HomeTheater,TV&Video"
        ],
        [
         "20",
         "Computers&Accessories",
         "Accessories&Peripherals"
        ],
        [
         "21",
         "Electronics",
         "HomeTheater,TV&Video"
        ],
        [
         "22",
         "Electronics",
         "HomeTheater,TV&Video"
        ],
        [
         "23",
         "Computers&Accessories",
         "Accessories&Peripherals"
        ],
        [
         "24",
         "Electronics",
         "HomeTheater,TV&Video"
        ],
        [
         "25",
         "Electronics",
         "HomeTheater,TV&Video"
        ],
        [
         "26",
         "Electronics",
         "HomeTheater,TV&Video"
        ],
        [
         "27",
         "Computers&Accessories",
         "Accessories&Peripherals"
        ],
        [
         "28",
         "Computers&Accessories",
         "Accessories&Peripherals"
        ],
        [
         "29",
         "Computers&Accessories",
         "Accessories&Peripherals"
        ],
        [
         "30",
         "Computers&Accessories",
         "Accessories&Peripherals"
        ],
        [
         "31",
         "Computers&Accessories",
         "Accessories&Peripherals"
        ],
        [
         "32",
         "Computers&Accessories",
         "Accessories&Peripherals"
        ],
        [
         "33",
         "Computers&Accessories",
         "Accessories&Peripherals"
        ],
        [
         "34",
         "Computers&Accessories",
         "Accessories&Peripherals"
        ],
        [
         "35",
         "Computers&Accessories",
         "Accessories&Peripherals"
        ],
        [
         "36",
         "Computers&Accessories",
         "Accessories&Peripherals"
        ],
        [
         "37",
         "Computers&Accessories",
         "Accessories&Peripherals"
        ],
        [
         "38",
         "Electronics",
         "HomeTheater,TV&Video"
        ],
        [
         "39",
         "Computers&Accessories",
         "Accessories&Peripherals"
        ],
        [
         "40",
         "Computers&Accessories",
         "Accessories&Peripherals"
        ],
        [
         "41",
         "Electronics",
         "HomeTheater,TV&Video"
        ],
        [
         "42",
         "Computers&Accessories",
         "Accessories&Peripherals"
        ],
        [
         "43",
         "Computers&Accessories",
         "NetworkingDevices"
        ],
        [
         "44",
         "Computers&Accessories",
         "Accessories&Peripherals"
        ],
        [
         "45",
         "Computers&Accessories",
         "Accessories&Peripherals"
        ],
        [
         "46",
         "Computers&Accessories",
         "NetworkingDevices"
        ],
        [
         "47",
         "Electronics",
         "HomeTheater,TV&Video"
        ],
        [
         "48",
         "Electronics",
         "HomeTheater,TV&Video"
        ],
        [
         "49",
         "Computers&Accessories",
         "Accessories&Peripherals"
        ]
       ],
       "shape": {
        "columns": 2,
        "rows": 1465
       }
      },
      "text/html": [
       "<div>\n",
       "<style scoped>\n",
       "    .dataframe tbody tr th:only-of-type {\n",
       "        vertical-align: middle;\n",
       "    }\n",
       "\n",
       "    .dataframe tbody tr th {\n",
       "        vertical-align: top;\n",
       "    }\n",
       "\n",
       "    .dataframe thead th {\n",
       "        text-align: right;\n",
       "    }\n",
       "</style>\n",
       "<table border=\"1\" class=\"dataframe\">\n",
       "  <thead>\n",
       "    <tr style=\"text-align: right;\">\n",
       "      <th></th>\n",
       "      <th>main_category</th>\n",
       "      <th>sub_category</th>\n",
       "    </tr>\n",
       "  </thead>\n",
       "  <tbody>\n",
       "    <tr>\n",
       "      <th>0</th>\n",
       "      <td>Computers&amp;Accessories</td>\n",
       "      <td>Accessories&amp;Peripherals</td>\n",
       "    </tr>\n",
       "    <tr>\n",
       "      <th>1</th>\n",
       "      <td>Computers&amp;Accessories</td>\n",
       "      <td>Accessories&amp;Peripherals</td>\n",
       "    </tr>\n",
       "    <tr>\n",
       "      <th>2</th>\n",
       "      <td>Computers&amp;Accessories</td>\n",
       "      <td>Accessories&amp;Peripherals</td>\n",
       "    </tr>\n",
       "    <tr>\n",
       "      <th>3</th>\n",
       "      <td>Computers&amp;Accessories</td>\n",
       "      <td>Accessories&amp;Peripherals</td>\n",
       "    </tr>\n",
       "    <tr>\n",
       "      <th>4</th>\n",
       "      <td>Computers&amp;Accessories</td>\n",
       "      <td>Accessories&amp;Peripherals</td>\n",
       "    </tr>\n",
       "    <tr>\n",
       "      <th>...</th>\n",
       "      <td>...</td>\n",
       "      <td>...</td>\n",
       "    </tr>\n",
       "    <tr>\n",
       "      <th>1460</th>\n",
       "      <td>Home&amp;Kitchen</td>\n",
       "      <td>Kitchen&amp;HomeAppliances</td>\n",
       "    </tr>\n",
       "    <tr>\n",
       "      <th>1461</th>\n",
       "      <td>Home&amp;Kitchen</td>\n",
       "      <td>Kitchen&amp;HomeAppliances</td>\n",
       "    </tr>\n",
       "    <tr>\n",
       "      <th>1462</th>\n",
       "      <td>Home&amp;Kitchen</td>\n",
       "      <td>Heating,Cooling&amp;AirQuality</td>\n",
       "    </tr>\n",
       "    <tr>\n",
       "      <th>1463</th>\n",
       "      <td>Home&amp;Kitchen</td>\n",
       "      <td>Heating,Cooling&amp;AirQuality</td>\n",
       "    </tr>\n",
       "    <tr>\n",
       "      <th>1464</th>\n",
       "      <td>Home&amp;Kitchen</td>\n",
       "      <td>Kitchen&amp;HomeAppliances</td>\n",
       "    </tr>\n",
       "  </tbody>\n",
       "</table>\n",
       "<p>1465 rows × 2 columns</p>\n",
       "</div>"
      ],
      "text/plain": [
       "              main_category                sub_category\n",
       "0     Computers&Accessories     Accessories&Peripherals\n",
       "1     Computers&Accessories     Accessories&Peripherals\n",
       "2     Computers&Accessories     Accessories&Peripherals\n",
       "3     Computers&Accessories     Accessories&Peripherals\n",
       "4     Computers&Accessories     Accessories&Peripherals\n",
       "...                     ...                         ...\n",
       "1460           Home&Kitchen      Kitchen&HomeAppliances\n",
       "1461           Home&Kitchen      Kitchen&HomeAppliances\n",
       "1462           Home&Kitchen  Heating,Cooling&AirQuality\n",
       "1463           Home&Kitchen  Heating,Cooling&AirQuality\n",
       "1464           Home&Kitchen      Kitchen&HomeAppliances\n",
       "\n",
       "[1465 rows x 2 columns]"
      ]
     },
     "execution_count": 314,
     "metadata": {},
     "output_type": "execute_result"
    }
   ],
   "source": [
    "df_sales[['main_category','sub_category']]"
   ]
  },
  {
   "cell_type": "markdown",
   "id": "708618ea",
   "metadata": {},
   "source": [
    "## 2. Analyses des données"
   ]
  },
  {
   "cell_type": "markdown",
   "id": "7cc61824",
   "metadata": {},
   "source": [
    "Nous allons créer un **nouveau jeu de données** qui ne comprendra que les variables qui nous serviront à l'analyse."
   ]
  },
  {
   "cell_type": "code",
   "execution_count": 315,
   "id": "3c5e37f6",
   "metadata": {},
   "outputs": [],
   "source": [
    "df_analysis = df_sales[['product_name','main_category','sub_category','rating','actual_price','discounted_price','about_product']]"
   ]
  },
  {
   "cell_type": "markdown",
   "id": "2e9df9b2",
   "metadata": {},
   "source": [
    "### Les distributions des variables"
   ]
  },
  {
   "cell_type": "markdown",
   "id": "696394d1",
   "metadata": {},
   "source": [
    "Nous allons étudier les **distributions** des variables et **tester** leur **normalité** afin de pouvoir choisir les **tests statistiques** adéquats pour l'analyse."
   ]
  },
  {
   "cell_type": "markdown",
   "id": "c7cbdb08",
   "metadata": {},
   "source": [
    "#### Distribution des notes"
   ]
  },
  {
   "cell_type": "markdown",
   "id": "f3a429b4",
   "metadata": {},
   "source": [
    "On observe que la distribution des notes est principalement centrée entre la note de 4 et 4,5."
   ]
  },
  {
   "cell_type": "code",
   "execution_count": 316,
   "id": "f4a6cc53",
   "metadata": {},
   "outputs": [
    {
     "data": {
      "image/png": "[encoded data removed]",
      "text/plain": [
       "<Figure size 640x480 with 1 Axes>"
      ]
     },
     "metadata": {},
     "output_type": "display_data"
    }
   ],
   "source": [
    "sns.histplot(data=df_analysis, x='rating', bins=20, kde=True, color='skyblue')\n",
    "plt.title('Distribution des notes')\n",
    "plt.xlabel('Note')\n",
    "plt.ylabel('Nombre de produits')\n",
    "plt.show()"
   ]
  },
  {
   "cell_type": "markdown",
   "id": "8723d7ac",
   "metadata": {},
   "source": [
    "Le test de normalité **Shapiro-Wilk** est utilisé afin de déterminer si la distribution des notes suit une **loi normale**. Le résultat du test indique une **p-value = 0 < 0,05**. \n",
    "Ainsi, la **distribution des notes** ne suit pas une loi normale."
   ]
  },
  {
   "cell_type": "code",
   "execution_count": 317,
   "id": "d9779bdf",
   "metadata": {},
   "outputs": [
    {
     "name": "stdout",
     "output_type": "stream",
     "text": [
      "Statistique de test : 0.925, p-value : 0.0000\n"
     ]
    }
   ],
   "source": [
    "from scipy.stats import shapiro\n",
    "\n",
    "stat, p = shapiro(df_analysis['rating'].dropna())\n",
    "print(f\"Statistique de test : {stat:.3f}, p-value : {p:.4f}\")"
   ]
  },
  {
   "cell_type": "markdown",
   "id": "f79e75a2",
   "metadata": {},
   "source": [
    "Concernant la **distribution des prix**, elle non plus ne suit pas une loi normale."
   ]
  },
  {
   "cell_type": "code",
   "execution_count": 318,
   "id": "eab0cf2c",
   "metadata": {},
   "outputs": [
    {
     "data": {
      "image/png": "[encoded data removed]",
      "text/plain": [
       "<Figure size 640x480 with 1 Axes>"
      ]
     },
     "metadata": {},
     "output_type": "display_data"
    }
   ],
   "source": [
    "sns.histplot(data=df_analysis, x='actual_price', bins=20, kde=True, color='skyblue')\n",
    "plt.title('Distribution des prix')\n",
    "plt.xlabel('Prix')\n",
    "plt.ylabel('Nombre de produits')\n",
    "plt.show()"
   ]
  },
  {
   "cell_type": "code",
   "execution_count": 319,
   "id": "d2b7af8e",
   "metadata": {},
   "outputs": [
    {
     "name": "stdout",
     "output_type": "stream",
     "text": [
      "Statistique de test : 0.694, p-value : 0.0000\n"
     ]
    }
   ],
   "source": [
    "stat, p = shapiro(df_analysis['actual_price'].dropna())\n",
    "print(f\"Statistique de test : {stat:.3f}, p-value : {p:.4f}\")"
   ]
  },
  {
   "cell_type": "markdown",
   "id": "9924b6c5",
   "metadata": {},
   "source": [
    "Il en est de même pour la distribution des prix réduit."
   ]
  },
  {
   "cell_type": "code",
   "execution_count": 320,
   "id": "610e8573",
   "metadata": {},
   "outputs": [
    {
     "data": {
      "image/png": "[encoded data removed]",
      "text/plain": [
       "<Figure size 640x480 with 1 Axes>"
      ]
     },
     "metadata": {},
     "output_type": "display_data"
    }
   ],
   "source": [
    "sns.histplot(data=df_analysis, x='discounted_price', bins=20, kde=True, color='skyblue')\n",
    "plt.title('Distribution des prix réduit')\n",
    "plt.xlabel('Prix réduit')\n",
    "plt.ylabel('Nombre de produits')\n",
    "plt.show()"
   ]
  },
  {
   "cell_type": "code",
   "execution_count": 321,
   "id": "83dffa25",
   "metadata": {},
   "outputs": [
    {
     "name": "stdout",
     "output_type": "stream",
     "text": [
      "Statistique de test : 0.821, p-value : 0.0000\n"
     ]
    }
   ],
   "source": [
    "stat, p = shapiro(df_analysis['discounted_price'].dropna())\n",
    "print(f\"Statistique de test : {stat:.3f}, p-value : {p:.4f}\")"
   ]
  },
  {
   "cell_type": "markdown",
   "id": "cc3db3e4",
   "metadata": {},
   "source": [
    "Nous voulions tester si la **longueur du nom du produit** et celle de sa **description** a un effet sur **la note** du produit. Nous avons donc créer **deux nouvelles colonnes** qui comprennent respectivement  : le **nombre de caractère du nom du produit** et le **nombre de caractère dans la description du produit**."
   ]
  },
  {
   "cell_type": "code",
   "execution_count": 322,
   "id": "2c39f37f",
   "metadata": {},
   "outputs": [
    {
     "name": "stderr",
     "output_type": "stream",
     "text": [
      "C:\\Users\\Marie GUILLAUMIN\\AppData\\Local\\Temp\\ipykernel_28020\\2059083298.py:1: SettingWithCopyWarning: \n",
      "A value is trying to be set on a copy of a slice from a DataFrame.\n",
      "Try using .loc[row_indexer,col_indexer] = value instead\n",
      "\n",
      "See the caveats in the documentation: https://pandas.pydata.org/pandas-docs/stable/user_guide/indexing.html#returning-a-view-versus-a-copy\n",
      "  df_analysis['nbr_carac_product_name'] = df_analysis['product_name'].str.len()\n",
      "C:\\Users\\Marie GUILLAUMIN\\AppData\\Local\\Temp\\ipykernel_28020\\2059083298.py:2: SettingWithCopyWarning: \n",
      "A value is trying to be set on a copy of a slice from a DataFrame.\n",
      "Try using .loc[row_indexer,col_indexer] = value instead\n",
      "\n",
      "See the caveats in the documentation: https://pandas.pydata.org/pandas-docs/stable/user_guide/indexing.html#returning-a-view-versus-a-copy\n",
      "  df_analysis['nbr_carac_about_product'] = df_analysis['about_product'].str.len()\n"
     ]
    }
   ],
   "source": [
    "df_analysis['nbr_carac_product_name'] = df_analysis['product_name'].str.len()\n",
    "df_analysis['nbr_carac_about_product'] = df_analysis['about_product'].str.len()"
   ]
  },
  {
   "cell_type": "markdown",
   "id": "7c949ad7",
   "metadata": {},
   "source": [
    "La distribution de ces **deux nouvelles variables** ne **suivent pas** non plus de **loi normale**.\n",
    "\n",
    "Ainsi, nous utiliserons des **tests statistiques non paramétriques** dans la suite de l'analyse. "
   ]
  },
  {
   "cell_type": "code",
   "execution_count": 323,
   "id": "e8d64743",
   "metadata": {},
   "outputs": [
    {
     "data": {
      "image/png": "[encoded data removed]",
      "text/plain": [
       "<Figure size 640x480 with 1 Axes>"
      ]
     },
     "metadata": {},
     "output_type": "display_data"
    }
   ],
   "source": [
    "sns.histplot(data=df_analysis, x='nbr_carac_product_name', bins=20, kde=True, color='skyblue')\n",
    "plt.title('Distribution du nombre de caractère du nom du produit')\n",
    "plt.xlabel('nombre de caractère du nom du produit')\n",
    "plt.ylabel('Nombre de produits')\n",
    "plt.show()"
   ]
  },
  {
   "cell_type": "code",
   "execution_count": 324,
   "id": "f0a807ab",
   "metadata": {},
   "outputs": [
    {
     "name": "stdout",
     "output_type": "stream",
     "text": [
      "Statistique de test : 0.954, p-value : 0.0000\n"
     ]
    }
   ],
   "source": [
    "stat, p = shapiro(df_analysis['nbr_carac_product_name'].dropna())\n",
    "print(f\"Statistique de test : {stat:.3f}, p-value : {p:.4f}\")"
   ]
  },
  {
   "cell_type": "code",
   "execution_count": 325,
   "id": "417b7306",
   "metadata": {},
   "outputs": [
    {
     "data": {
      "image/png": "[encoded data removed]",
      "text/plain": [
       "<Figure size 640x480 with 1 Axes>"
      ]
     },
     "metadata": {},
     "output_type": "display_data"
    }
   ],
   "source": [
    "sns.histplot(data=df_analysis, x='nbr_carac_about_product', bins=20, kde=True, color='skyblue')\n",
    "plt.title('Distribution du nombre de caractère de la desciption du produit')\n",
    "plt.xlabel('nombre de caractère de la description du produit')\n",
    "plt.ylabel('Nombre de produits')\n",
    "plt.show()"
   ]
  },
  {
   "cell_type": "code",
   "execution_count": 326,
   "id": "98a44e40",
   "metadata": {},
   "outputs": [
    {
     "name": "stdout",
     "output_type": "stream",
     "text": [
      "Statistique de test : 0.942, p-value : 0.0000\n"
     ]
    }
   ],
   "source": [
    "stat, p = shapiro(df_analysis['nbr_carac_about_product'].dropna())\n",
    "print(f\"Statistique de test : {stat:.3f}, p-value : {p:.4f}\")"
   ]
  },
  {
   "cell_type": "markdown",
   "id": "35a324d4",
   "metadata": {},
   "source": [
    "### Analyse bivariée"
   ]
  },
  {
   "cell_type": "markdown",
   "id": "1deec764",
   "metadata": {},
   "source": [
    "#### Influence de la catégorie et de la sous-catégorie sur la note du produit"
   ]
  },
  {
   "cell_type": "markdown",
   "id": "0744ff8c",
   "metadata": {},
   "source": [
    "On obverse que les notes moyennes des produits ne sont pas les mêmes en fonction de la catégorie principale du produit. \n",
    "\n",
    "Les produits avec une note moyenne **la plus élevée** sont les **produits de bureau** et ceux avec la note moyenne **la plus faible** sont les produits relatifs aux **équipements de voiture et motos**."
   ]
  },
  {
   "cell_type": "code",
   "execution_count": 327,
   "id": "3359e4ca",
   "metadata": {},
   "outputs": [
    {
     "data": {
      "application/vnd.microsoft.datawrangler.viewer.v0+json": {
       "columns": [
        {
         "name": "main_category",
         "rawType": "object",
         "type": "string"
        },
        {
         "name": "rating",
         "rawType": "float64",
         "type": "float"
        }
       ],
       "conversionMethod": "pd.DataFrame",
       "ref": "af731a61-4bc7-4db6-bdc0-bdb740155375",
       "rows": [
        [
         "OfficeProducts",
         "4.31"
        ],
        [
         "Toys&Games",
         "4.3"
        ],
        [
         "HomeImprovement",
         "4.25"
        ],
        [
         "Computers&Accessories",
         "4.15"
        ],
        [
         "Electronics",
         "4.08"
        ],
        [
         "Home&Kitchen",
         "4.04"
        ],
        [
         "Health&PersonalCare",
         "4.0"
        ],
        [
         "MusicalInstruments",
         "3.9"
        ],
        [
         "Car&Motorbike",
         "3.8"
        ]
       ],
       "shape": {
        "columns": 1,
        "rows": 9
       }
      },
      "text/html": [
       "<div>\n",
       "<style scoped>\n",
       "    .dataframe tbody tr th:only-of-type {\n",
       "        vertical-align: middle;\n",
       "    }\n",
       "\n",
       "    .dataframe tbody tr th {\n",
       "        vertical-align: top;\n",
       "    }\n",
       "\n",
       "    .dataframe thead th {\n",
       "        text-align: right;\n",
       "    }\n",
       "</style>\n",
       "<table border=\"1\" class=\"dataframe\">\n",
       "  <thead>\n",
       "    <tr style=\"text-align: right;\">\n",
       "      <th></th>\n",
       "      <th>rating</th>\n",
       "    </tr>\n",
       "    <tr>\n",
       "      <th>main_category</th>\n",
       "      <th></th>\n",
       "    </tr>\n",
       "  </thead>\n",
       "  <tbody>\n",
       "    <tr>\n",
       "      <th>OfficeProducts</th>\n",
       "      <td>4.31</td>\n",
       "    </tr>\n",
       "    <tr>\n",
       "      <th>Toys&amp;Games</th>\n",
       "      <td>4.30</td>\n",
       "    </tr>\n",
       "    <tr>\n",
       "      <th>HomeImprovement</th>\n",
       "      <td>4.25</td>\n",
       "    </tr>\n",
       "    <tr>\n",
       "      <th>Computers&amp;Accessories</th>\n",
       "      <td>4.15</td>\n",
       "    </tr>\n",
       "    <tr>\n",
       "      <th>Electronics</th>\n",
       "      <td>4.08</td>\n",
       "    </tr>\n",
       "    <tr>\n",
       "      <th>Home&amp;Kitchen</th>\n",
       "      <td>4.04</td>\n",
       "    </tr>\n",
       "    <tr>\n",
       "      <th>Health&amp;PersonalCare</th>\n",
       "      <td>4.00</td>\n",
       "    </tr>\n",
       "    <tr>\n",
       "      <th>MusicalInstruments</th>\n",
       "      <td>3.90</td>\n",
       "    </tr>\n",
       "    <tr>\n",
       "      <th>Car&amp;Motorbike</th>\n",
       "      <td>3.80</td>\n",
       "    </tr>\n",
       "  </tbody>\n",
       "</table>\n",
       "</div>"
      ],
      "text/plain": [
       "                       rating\n",
       "main_category                \n",
       "OfficeProducts           4.31\n",
       "Toys&Games               4.30\n",
       "HomeImprovement          4.25\n",
       "Computers&Accessories    4.15\n",
       "Electronics              4.08\n",
       "Home&Kitchen             4.04\n",
       "Health&PersonalCare      4.00\n",
       "MusicalInstruments       3.90\n",
       "Car&Motorbike            3.80"
      ]
     },
     "execution_count": 327,
     "metadata": {},
     "output_type": "execute_result"
    }
   ],
   "source": [
    "df_analysis.groupby('main_category').mean(numeric_only=True).sort_values('rating', ascending=False).round(2)['rating'].to_frame()"
   ]
  },
  {
   "cell_type": "markdown",
   "id": "d56ddff6",
   "metadata": {},
   "source": [
    "Le test de **Kruskal-Wallis** est un test statistique **non paramétrique** et indique s'il existe des **différences significatives** entre les notes moyennes en fonction des différents groupes.\n",
    "\n",
    "En ce qui concerne les catégories principales, le test de Kruskal-Wallis nous indique qu'il existe des **différences significatives** (p-value = 0.000 < 0.05) entre les notes moyennes des différentes catégories principales des produits."
   ]
  },
  {
   "cell_type": "code",
   "execution_count": 328,
   "id": "8a5785cc",
   "metadata": {},
   "outputs": [
    {
     "name": "stdout",
     "output_type": "stream",
     "text": [
      "Statistique H : 66.661, p-value : 0.0000\n"
     ]
    }
   ],
   "source": [
    "from scipy.stats import kruskal\n",
    "\n",
    "categories = df_analysis.dropna().groupby('main_category')['rating'].apply(list)\n",
    "h_stat, p_value = kruskal(*categories)\n",
    "print(f\"Statistique H : {h_stat:.3f}, p-value : {p_value:.4f}\")"
   ]
  },
  {
   "cell_type": "markdown",
   "id": "5db0b7f6",
   "metadata": {},
   "source": [
    "Nous avons procéder de la même manière pour la sous-catégorie de produit et ici aussi nous observons des **différences significatives** (p-value = 0.000 < 0.05) entre les notes moyennes. \n",
    "\n",
    "Les produits avec la note moyenne la plus élevée selon la sous-catégorie sont les produits affiliés aux tablettes."
   ]
  },
  {
   "cell_type": "code",
   "execution_count": 329,
   "id": "9e85d3be",
   "metadata": {},
   "outputs": [
    {
     "data": {
      "application/vnd.microsoft.datawrangler.viewer.v0+json": {
       "columns": [
        {
         "name": "sub_category",
         "rawType": "object",
         "type": "string"
        },
        {
         "name": "rating",
         "rawType": "float64",
         "type": "float"
        }
       ],
       "conversionMethod": "pd.DataFrame",
       "ref": "5884420b-8c91-4427-8a18-69baaa9f703f",
       "rows": [
        [
         "Tablets",
         "4.6"
        ],
        [
         "PowerAccessories",
         "4.5"
        ],
        [
         "OfficeElectronics",
         "4.45"
        ],
        [
         "Components",
         "4.38"
        ],
        [
         "GeneralPurposeBatteries&BatteryChargers",
         "4.35"
        ],
        [
         "CraftMaterials",
         "4.34"
        ],
        [
         "Accessories",
         "4.34"
        ],
        [
         "ExternalDevices&DataStorage",
         "4.32"
        ],
        [
         "Arts&Crafts",
         "4.3"
        ],
        [
         "OfficePaperProducts",
         "4.29"
        ],
        [
         "Electrical",
         "4.25"
        ],
        [
         "Monitors",
         "4.25"
        ],
        [
         "NetworkingDevices",
         "4.16"
        ],
        [
         "Accessories&Peripherals",
         "4.15"
        ],
        [
         "Mobiles&Accessories",
         "4.13"
        ],
        [
         "Cameras&Photography",
         "4.12"
        ],
        [
         "Kitchen&Dining",
         "4.1"
        ],
        [
         "HomeTheater,TV&Video",
         "4.08"
        ],
        [
         "HomeAudio",
         "4.07"
        ],
        [
         "Kitchen&HomeAppliances",
         "4.05"
        ],
        [
         "HomeStorage&Organization",
         "4.03"
        ],
        [
         "WearableTechnology",
         "4.02"
        ],
        [
         "Laptops",
         "4.0"
        ],
        [
         "HomeMedicalSupplies&Equipment",
         "4.0"
        ],
        [
         "Heating,Cooling&AirQuality",
         "3.99"
        ],
        [
         "Printers,Inks&Accessories",
         "3.96"
        ],
        [
         "Headphones,Earbuds&Accessories",
         "3.93"
        ],
        [
         "Microphones",
         "3.9"
        ],
        [
         "CarAccessories",
         "3.8"
        ]
       ],
       "shape": {
        "columns": 1,
        "rows": 29
       }
      },
      "text/html": [
       "<div>\n",
       "<style scoped>\n",
       "    .dataframe tbody tr th:only-of-type {\n",
       "        vertical-align: middle;\n",
       "    }\n",
       "\n",
       "    .dataframe tbody tr th {\n",
       "        vertical-align: top;\n",
       "    }\n",
       "\n",
       "    .dataframe thead th {\n",
       "        text-align: right;\n",
       "    }\n",
       "</style>\n",
       "<table border=\"1\" class=\"dataframe\">\n",
       "  <thead>\n",
       "    <tr style=\"text-align: right;\">\n",
       "      <th></th>\n",
       "      <th>rating</th>\n",
       "    </tr>\n",
       "    <tr>\n",
       "      <th>sub_category</th>\n",
       "      <th></th>\n",
       "    </tr>\n",
       "  </thead>\n",
       "  <tbody>\n",
       "    <tr>\n",
       "      <th>Tablets</th>\n",
       "      <td>4.60</td>\n",
       "    </tr>\n",
       "    <tr>\n",
       "      <th>PowerAccessories</th>\n",
       "      <td>4.50</td>\n",
       "    </tr>\n",
       "    <tr>\n",
       "      <th>OfficeElectronics</th>\n",
       "      <td>4.45</td>\n",
       "    </tr>\n",
       "    <tr>\n",
       "      <th>Components</th>\n",
       "      <td>4.38</td>\n",
       "    </tr>\n",
       "    <tr>\n",
       "      <th>GeneralPurposeBatteries&amp;BatteryChargers</th>\n",
       "      <td>4.35</td>\n",
       "    </tr>\n",
       "    <tr>\n",
       "      <th>CraftMaterials</th>\n",
       "      <td>4.34</td>\n",
       "    </tr>\n",
       "    <tr>\n",
       "      <th>Accessories</th>\n",
       "      <td>4.34</td>\n",
       "    </tr>\n",
       "    <tr>\n",
       "      <th>ExternalDevices&amp;DataStorage</th>\n",
       "      <td>4.32</td>\n",
       "    </tr>\n",
       "    <tr>\n",
       "      <th>Arts&amp;Crafts</th>\n",
       "      <td>4.30</td>\n",
       "    </tr>\n",
       "    <tr>\n",
       "      <th>OfficePaperProducts</th>\n",
       "      <td>4.29</td>\n",
       "    </tr>\n",
       "    <tr>\n",
       "      <th>Electrical</th>\n",
       "      <td>4.25</td>\n",
       "    </tr>\n",
       "    <tr>\n",
       "      <th>Monitors</th>\n",
       "      <td>4.25</td>\n",
       "    </tr>\n",
       "    <tr>\n",
       "      <th>NetworkingDevices</th>\n",
       "      <td>4.16</td>\n",
       "    </tr>\n",
       "    <tr>\n",
       "      <th>Accessories&amp;Peripherals</th>\n",
       "      <td>4.15</td>\n",
       "    </tr>\n",
       "    <tr>\n",
       "      <th>Mobiles&amp;Accessories</th>\n",
       "      <td>4.13</td>\n",
       "    </tr>\n",
       "    <tr>\n",
       "      <th>Cameras&amp;Photography</th>\n",
       "      <td>4.12</td>\n",
       "    </tr>\n",
       "    <tr>\n",
       "      <th>Kitchen&amp;Dining</th>\n",
       "      <td>4.10</td>\n",
       "    </tr>\n",
       "    <tr>\n",
       "      <th>HomeTheater,TV&amp;Video</th>\n",
       "      <td>4.08</td>\n",
       "    </tr>\n",
       "    <tr>\n",
       "      <th>HomeAudio</th>\n",
       "      <td>4.07</td>\n",
       "    </tr>\n",
       "    <tr>\n",
       "      <th>Kitchen&amp;HomeAppliances</th>\n",
       "      <td>4.05</td>\n",
       "    </tr>\n",
       "    <tr>\n",
       "      <th>HomeStorage&amp;Organization</th>\n",
       "      <td>4.03</td>\n",
       "    </tr>\n",
       "    <tr>\n",
       "      <th>WearableTechnology</th>\n",
       "      <td>4.02</td>\n",
       "    </tr>\n",
       "    <tr>\n",
       "      <th>Laptops</th>\n",
       "      <td>4.00</td>\n",
       "    </tr>\n",
       "    <tr>\n",
       "      <th>HomeMedicalSupplies&amp;Equipment</th>\n",
       "      <td>4.00</td>\n",
       "    </tr>\n",
       "    <tr>\n",
       "      <th>Heating,Cooling&amp;AirQuality</th>\n",
       "      <td>3.99</td>\n",
       "    </tr>\n",
       "    <tr>\n",
       "      <th>Printers,Inks&amp;Accessories</th>\n",
       "      <td>3.96</td>\n",
       "    </tr>\n",
       "    <tr>\n",
       "      <th>Headphones,Earbuds&amp;Accessories</th>\n",
       "      <td>3.93</td>\n",
       "    </tr>\n",
       "    <tr>\n",
       "      <th>Microphones</th>\n",
       "      <td>3.90</td>\n",
       "    </tr>\n",
       "    <tr>\n",
       "      <th>CarAccessories</th>\n",
       "      <td>3.80</td>\n",
       "    </tr>\n",
       "  </tbody>\n",
       "</table>\n",
       "</div>"
      ],
      "text/plain": [
       "                                         rating\n",
       "sub_category                                   \n",
       "Tablets                                    4.60\n",
       "PowerAccessories                           4.50\n",
       "OfficeElectronics                          4.45\n",
       "Components                                 4.38\n",
       "GeneralPurposeBatteries&BatteryChargers    4.35\n",
       "CraftMaterials                             4.34\n",
       "Accessories                                4.34\n",
       "ExternalDevices&DataStorage                4.32\n",
       "Arts&Crafts                                4.30\n",
       "OfficePaperProducts                        4.29\n",
       "Electrical                                 4.25\n",
       "Monitors                                   4.25\n",
       "NetworkingDevices                          4.16\n",
       "Accessories&Peripherals                    4.15\n",
       "Mobiles&Accessories                        4.13\n",
       "Cameras&Photography                        4.12\n",
       "Kitchen&Dining                             4.10\n",
       "HomeTheater,TV&Video                       4.08\n",
       "HomeAudio                                  4.07\n",
       "Kitchen&HomeAppliances                     4.05\n",
       "HomeStorage&Organization                   4.03\n",
       "WearableTechnology                         4.02\n",
       "Laptops                                    4.00\n",
       "HomeMedicalSupplies&Equipment              4.00\n",
       "Heating,Cooling&AirQuality                 3.99\n",
       "Printers,Inks&Accessories                  3.96\n",
       "Headphones,Earbuds&Accessories             3.93\n",
       "Microphones                                3.90\n",
       "CarAccessories                             3.80"
      ]
     },
     "execution_count": 329,
     "metadata": {},
     "output_type": "execute_result"
    }
   ],
   "source": [
    "df_analysis.groupby('sub_category').mean(numeric_only=True).sort_values('rating', ascending=False).round(2)['rating'].to_frame()"
   ]
  },
  {
   "cell_type": "code",
   "execution_count": 338,
   "id": "f4a74200",
   "metadata": {},
   "outputs": [
    {
     "name": "stdout",
     "output_type": "stream",
     "text": [
      "Statistique H : 175.240, p-value : 0.0000\n"
     ]
    }
   ],
   "source": [
    "categories = df_analysis.dropna().groupby('sub_category')['rating'].apply(list)\n",
    "h_stat, p_value = kruskal(*categories)\n",
    "print(f\"Statistique H : {h_stat:.3f}, p-value : {p_value:.4f}\")"
   ]
  },
  {
   "cell_type": "markdown",
   "id": "3558c166",
   "metadata": {},
   "source": [
    "Ainsi, nous pouvons en conclure que **la catégorie** et **la sous-catégorie** du produit ont **une influence sur la note** de ce même produit."
   ]
  },
  {
   "cell_type": "markdown",
   "id": "b8acd4be",
   "metadata": {},
   "source": [
    "#### Influence du prix et du prix réduit sur la note du produit"
   ]
  },
  {
   "cell_type": "markdown",
   "id": "7a84695e",
   "metadata": {},
   "source": [
    "Afin de déterminer si **le prix** a une influence sur **la note** du produit, nous allons d'abord observer graphiquement comment **les notes** sont réparties en **fonction du prix** du produit.\n",
    "\n",
    "Il semble **difficile**, graphiquement, d'identifier **une corrélation** entre **le prix** du produit et **sa note**."
   ]
  },
  {
   "cell_type": "code",
   "execution_count": 330,
   "id": "b37f5427",
   "metadata": {},
   "outputs": [
    {
     "data": {
      "image/png": "[encoded data removed]",
      "text/plain": [
       "<Figure size 640x480 with 1 Axes>"
      ]
     },
     "metadata": {},
     "output_type": "display_data"
    }
   ],
   "source": [
    "sns.scatterplot(data=df_analysis, x='actual_price', y='rating')\n",
    "plt.title('Note du produit en fonction de son prix')\n",
    "plt.xlabel('Prix')\n",
    "plt.ylabel('Note')\n",
    "plt.show()"
   ]
  },
  {
   "cell_type": "markdown",
   "id": "f5de9c5c",
   "metadata": {},
   "source": [
    "Nous testons donc la corrélation de la note du produit avec son prix avec la **corrélation de Spearman**.\n",
    "\n",
    "Le test indique que la **corrélation négative** n'est **pas significative** (p-value = 0.057 > 0.05)."
   ]
  },
  {
   "cell_type": "code",
   "execution_count": 331,
   "id": "b529ffa5",
   "metadata": {},
   "outputs": [
    {
     "name": "stdout",
     "output_type": "stream",
     "text": [
      "Corrélation de Spearman : -0.015, p-value : 0.5727\n"
     ]
    }
   ],
   "source": [
    "from scipy.stats import spearmanr\n",
    "\n",
    "df_corr = df_analysis.dropna()\n",
    "\n",
    "corr, p_value = spearmanr(df_corr['rating'], df_corr['actual_price'])\n",
    "print(f\"Corrélation de Spearman : {corr:.3f}, p-value : {p_value:.4f}\")"
   ]
  },
  {
   "cell_type": "markdown",
   "id": "f38e6311",
   "metadata": {},
   "source": [
    "Nous faisons de même pour **le prix réduit** du produit. \n",
    "\n",
    "Graphiquement, il est également **difficile** d'identifier une potentielle **corrélation** entre les deux variables."
   ]
  },
  {
   "cell_type": "code",
   "execution_count": 332,
   "id": "ea538574",
   "metadata": {},
   "outputs": [
    {
     "data": {
      "image/png": "[encoded data removed]",
      "text/plain": [
       "<Figure size 640x480 with 1 Axes>"
      ]
     },
     "metadata": {},
     "output_type": "display_data"
    }
   ],
   "source": [
    "sns.scatterplot(data=df_analysis, x='discounted_price', y='rating')\n",
    "plt.title('Note du produit en fonction de son prix réduit')\n",
    "plt.xlabel('Prix réduit')\n",
    "plt.ylabel('Note')\n",
    "plt.show()"
   ]
  },
  {
   "cell_type": "markdown",
   "id": "a0646ddb",
   "metadata": {},
   "source": [
    "Ici aussi, le test indique qu'il n'y a **pas de corrélation significative** entre **la note** et le **prix réduit** du produit (p-value = 0.053 > 0.05)."
   ]
  },
  {
   "cell_type": "code",
   "execution_count": 333,
   "id": "371c1c89",
   "metadata": {},
   "outputs": [
    {
     "name": "stdout",
     "output_type": "stream",
     "text": [
      "Corrélation de Spearman : 0.051, p-value : 0.0533\n"
     ]
    }
   ],
   "source": [
    "corr, p_value = spearmanr(df_corr['rating'], df_corr['discounted_price'])\n",
    "print(f\"Corrélation de Spearman : {corr:.3f}, p-value : {p_value:.4f}\")"
   ]
  },
  {
   "cell_type": "markdown",
   "id": "9b783e48",
   "metadata": {},
   "source": [
    "Nous pouvons donc conclure que **le prix** et **le prix réduit** des produits **n'ont pas d'influence** sur **la note** du produit."
   ]
  },
  {
   "cell_type": "markdown",
   "id": "fef0a4a4",
   "metadata": {},
   "source": [
    "#### Le nombre de caractère du nom du produit et de la description du produit"
   ]
  },
  {
   "cell_type": "markdown",
   "id": "3fda447b",
   "metadata": {},
   "source": [
    "De la même manière que pour le prix et le prix réduit, nous allons étudier la **relation** entre le **nombre de caractère du nom du produit** et **sa note**."
   ]
  },
  {
   "cell_type": "markdown",
   "id": "17f3dfbb",
   "metadata": {},
   "source": [
    "Graphiquement, on observe une **concentration** assez importante rendant difficile l'interprétation."
   ]
  },
  {
   "cell_type": "code",
   "execution_count": 334,
   "id": "ff451bb2",
   "metadata": {},
   "outputs": [
    {
     "data": {
      "image/png": "[encoded data removed]",
      "text/plain": [
       "<Figure size 640x480 with 1 Axes>"
      ]
     },
     "metadata": {},
     "output_type": "display_data"
    }
   ],
   "source": [
    "sns.scatterplot(data=df_analysis, x='nbr_carac_product_name', y='rating')\n",
    "plt.title('Note du produit en fonction du nombre de caractère du nom du produit')\n",
    "plt.xlabel('Nombre de caractère du nom du produit')\n",
    "plt.ylabel('Note')\n",
    "plt.show()"
   ]
  },
  {
   "cell_type": "markdown",
   "id": "a68006d6",
   "metadata": {},
   "source": [
    "Le calcul de la corrélation de Spearman indique qu'il existe une **corrélation négative significative** entre le nombre de caractère du nom d'un produit et sa note.\n",
    "Ainsi, il semblerait que **plus** le nom d'un produit comporte un **grand nombre de caractère**, **moins sa note est haute**."
   ]
  },
  {
   "cell_type": "code",
   "execution_count": 335,
   "id": "fb3bb0d7",
   "metadata": {},
   "outputs": [
    {
     "name": "stdout",
     "output_type": "stream",
     "text": [
      "Corrélation de Spearman : -0.114, p-value : 0.0000\n"
     ]
    }
   ],
   "source": [
    "corr, p_value = spearmanr(df_corr['rating'], df_corr['nbr_carac_product_name'])\n",
    "print(f\"Corrélation de Spearman : {corr:.3f}, p-value : {p_value:.4f}\")"
   ]
  },
  {
   "cell_type": "markdown",
   "id": "47287851",
   "metadata": {},
   "source": [
    "Nous avons procéder de la même manière concernant le nombre de caractère dans la description du produit.\n",
    "Grpahiquement, il est également difficile d'interpréter du fait de la concentration des observations."
   ]
  },
  {
   "cell_type": "code",
   "execution_count": 336,
   "id": "a4daec40",
   "metadata": {},
   "outputs": [
    {
     "data": {
      "image/png": "[encoded data removed]",
      "text/plain": [
       "<Figure size 640x480 with 1 Axes>"
      ]
     },
     "metadata": {},
     "output_type": "display_data"
    }
   ],
   "source": [
    "sns.scatterplot(data=df_analysis, x='nbr_carac_about_product', y='rating')\n",
    "plt.title('Note du produit en fonction du nombre de caractère dans la description du produit')\n",
    "plt.xlabel('Nombre de caractère dans la description du produit')\n",
    "plt.ylabel('Note')\n",
    "plt.show()"
   ]
  },
  {
   "cell_type": "markdown",
   "id": "70099be2",
   "metadata": {},
   "source": [
    "La corrélation de Spearman indique une **faible corrélation positive** mais **non significative** entre le **nombre de caractère de la description du produit** et **sa note**.\n",
    "Il ne semble donc **pas avoir de lien avec ces 2 variables**."
   ]
  },
  {
   "cell_type": "code",
   "execution_count": 337,
   "id": "f3ca1348",
   "metadata": {},
   "outputs": [
    {
     "name": "stdout",
     "output_type": "stream",
     "text": [
      "Corrélation de Spearman : 0.006, p-value : 0.8278\n"
     ]
    }
   ],
   "source": [
    "corr, p_value = spearmanr(df_corr['rating'], df_corr['nbr_carac_about_product'])\n",
    "print(f\"Corrélation de Spearman : {corr:.3f}, p-value : {p_value:.4f}\")"
   ]
  },
  {
   "cell_type": "markdown",
   "id": "c136068e",
   "metadata": {},
   "source": [
    "## 3.Conclusion"
   ]
  },
  {
   "cell_type": "markdown",
   "id": "9a25e522",
   "metadata": {},
   "source": [
    "A travers les **différentes analyses**, nous avons pu **identifier des relations** entre **la note** d'un produit et **différentes variables**. \n",
    "\n",
    "Il semblerait que **la note** soit principalement **influencée** par **la catégorie** et **la sous-catégorie** du produit mais aussi par le **nom du produit**. \n",
    "\n",
    "Plusieurs **hypothèses** peuvent être avancées pour **expliquer** ces résultats. \n",
    "Premièrement, certaines catégories de produits peuvent être plus à même de proposer des produits de mauvaise qualité.\n",
    "Ensuite, un produit avec un nom long peut être un produit de mauvaise qualité cherchant à intégrer un maximum de mots clés pour favoriser son référencement.\n",
    "\n",
    "La **longueur** d'un nom de produit rend **l'offre peut lisible** mais a aussi une **influence négative** sur **la confiance** des consommateurs dans le produit. C'est également pour ces raisons qu'Amazon à mis à jour sa politique de titres de produits en 2025 afin de limiter les noms de produit peu lisibles et redondant."
   ]
  }
 ],
 "metadata": {
  "kernelspec": {
   "display_name": "base",
   "language": "python",
   "name": "python3"
  },
  "language_info": {
   "codemirror_mode": {
    "name": "ipython",
    "version": 3
   },
   "file_extension": ".py",
   "mimetype": "text/x-python",
   "name": "python",
   "nbconvert_exporter": "python",
   "pygments_lexer": "ipython3",
   "version": "3.11.10"
  }
 },
 "nbformat": 4,
 "nbformat_minor": 5
}
